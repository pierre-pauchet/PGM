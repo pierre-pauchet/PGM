{
 "cells": [
  {
   "cell_type": "markdown",
   "metadata": {},
   "source": [
    "# not-MIWAE: Deep Generative Modelling with Missing not at Random Data\n",
    "This notebook illustrates how to fit a *deep latent variable model* to data affected by a missing process which depends on the missing data itself, i.e. *missing not at random*.\n",
    "\n",
    "We fit a linear PPCA-like model to a relatively small UCI dataset."
   ]
  },
  {
   "cell_type": "markdown",
   "metadata": {},
   "source": [
    "### Preamble"
   ]
  },
  {
   "cell_type": "code",
   "execution_count": 920,
   "metadata": {},
   "outputs": [],
   "source": [
    "import numpy as np\n",
    "\n",
    "import matplotlib.pyplot as plt\n",
    "import pandas as pd\n",
    "import time\n"
   ]
  },
  {
   "cell_type": "code",
   "execution_count": 921,
   "metadata": {},
   "outputs": [],
   "source": [
    "import tensorflow as tf\n",
    "import tensorflow.keras as keras\n",
    "import tensorflow_probability as tfp\n"
   ]
  },
  {
   "cell_type": "code",
   "execution_count": 922,
   "metadata": {},
   "outputs": [],
   "source": [
    "\n",
    "# import sys\n",
    "# sys.path.append('./')\n",
    "\n",
    "\n",
    "\n",
    "plt.rcParams[\"font.family\"] = \"serif\"\n",
    "plt.rcParams['font.size'] = 15.0\n",
    "plt.rcParams['axes.spines.right'] = False\n",
    "plt.rcParams['axes.spines.top'] = False\n",
    "plt.rcParams['savefig.format'] = 'pdf'\n",
    "plt.rcParams['lines.linewidth'] = 2.5\n"
   ]
  },
  {
   "cell_type": "markdown",
   "metadata": {},
   "source": [
    "### Load data\n",
    "Here we use the white-wine dataset from the UCI database"
   ]
  },
  {
   "cell_type": "code",
   "execution_count": 924,
   "metadata": {
    "collapsed": true
   },
   "outputs": [],
   "source": [
    "url = \"https://archive.ics.uci.edu/ml/machine-learning-databases/wine-quality/winequality-white.csv\"\n",
    "data = np.array(pd.read_csv(url, low_memory=False, sep=';'))\n",
    "# ---- drop the classification attribute\n",
    "data = data[:, :-1] "
   ]
  },
  {
   "cell_type": "markdown",
   "metadata": {},
   "source": [
    "### Settings"
   ]
  },
  {
   "cell_type": "code",
   "execution_count": 925,
   "metadata": {
    "collapsed": true
   },
   "outputs": [],
   "source": [
    "N, D = data.shape\n",
    "n_latent = D\n",
    "n_hidden = 128\n",
    "n_samples = 20\n",
    "max_iter = 30000\n",
    "batch_size = 16"
   ]
  },
  {
   "cell_type": "markdown",
   "metadata": {},
   "source": [
    "### Standardize data"
   ]
  },
  {
   "cell_type": "code",
   "execution_count": 926,
   "metadata": {
    "collapsed": true
   },
   "outputs": [],
   "source": [
    "# ---- standardize data (indication sur la moyenne et la dispersion des données?)\n",
    "data = data - np.mean(data, axis=0)\n",
    "data = data / np.std(data, axis=0)\n",
    "\n",
    "# ---- random permutation \n",
    "p = np.random.permutation(N)\n",
    "data = data[p, :]  # Cette fois, c'est un tableau NumPy, donc cette syntaxe est valide\n",
    "\n",
    "# ---- Utilisation des données pour train-val split\n",
    "Xtrain = data.copy()\n",
    "Xval = Xtrain.copy()"
   ]
  },
  {
   "cell_type": "markdown",
   "metadata": {},
   "source": [
    "### Introduce missing \n",
    "Here we denote\n",
    "- Xnan: data matrix with np.nan as the missing entries\n",
    "- Xz: data matrix with 0 as the missing entries\n",
    "- S: missing mask \n",
    "\n",
    "The missing process depends on the missing data itself:\n",
    "- in half the features, set the feature value to missing when it is higher than the feature mean"
   ]
  },
  {
   "cell_type": "code",
   "execution_count": 929,
   "metadata": {},
   "outputs": [],
   "source": [
    " # ---- introduce missing process\n",
    "Xnan = Xtrain.copy()\n",
    "Xz = Xtrain.copy()\n",
    "\n",
    "mean = np.mean(Xnan[:, :int(D / 2)], axis=0)\n",
    "ix_larger_than_mean = Xnan[:, :int(D / 2)] > mean\n",
    "\n",
    "Xnan[:, :int(D / 2)][ix_larger_than_mean] = np.nan\n",
    "Xz[:, :int(D / 2)][ix_larger_than_mean] = 0\n",
    "\n",
    "S = np.array(~np.isnan(Xnan), dtype=np.float32)"
   ]
  },
  {
   "cell_type": "markdown",
   "metadata": {},
   "source": [
    "### Inputs\n",
    "Let's first define the inputs of the model\n",
    "- x_pl: data input\n",
    "- s_pl: mask input\n",
    "- n_pl: number of importance samples"
   ]
  },
  {
   "cell_type": "code",
   "execution_count": 930,
   "metadata": {},
   "outputs": [
    {
     "name": "stdout",
     "output_type": "stream",
     "text": [
      "Creating graph...\n"
     ]
    }
   ],
   "source": [
    "print(\"Creating graph...\")\n",
    "\n",
    "tf.compat.v1.disable_eager_execution()\n",
    "\n",
    "sess = tf.compat.v1.Session()\n",
    "tf.compat.v1.reset_default_graph()\n",
    "# ---- input\n",
    "with tf.compat.v1.variable_scope('input'):\n",
    "    x_pl = tf.compat.v1.placeholder(tf.compat.v1.float32, [None, D], 'x_pl')\n",
    "    s_pl = tf.compat.v1.placeholder(tf.compat.v1.float32, [None, D], 's_pl')\n",
    "    n_pl = tf.compat.v1.placeholder(tf.compat.v1.int32, shape=(), name='n_pl')"
   ]
  },
  {
   "cell_type": "markdown",
   "metadata": {},
   "source": [
    "the noise variance is learned as a shared parameter"
   ]
  },
  {
   "cell_type": "code",
   "execution_count": 932,
   "metadata": {},
   "outputs": [],
   "source": [
    "# ---- parameters\n",
    "with tf.compat.v1.variable_scope('data_process'):\n",
    "    logstd = tf.compat.v1.get_variable('logstd', shape=[])"
   ]
  },
  {
   "cell_type": "markdown",
   "metadata": {},
   "source": [
    "### Encoder\n",
    "The encoder / inference network consists of two hidden layers with 128 units and tanh activation"
   ]
  },
  {
   "cell_type": "code",
   "execution_count": 933,
   "metadata": {},
   "outputs": [],
   "source": [
    "x = keras.layers.Dense(units=n_hidden, activation=tf.nn.tanh, name='l_enc1')(x_pl)\n",
    "x = keras.layers.Dense(units=n_hidden, activation=tf.nn.tanh, name='l_enc2')(x)\n",
    "\n",
    "q_mu = keras.layers.Dense(units=n_latent, activation=None, name='q_mu')(x)\n",
    "\n",
    "q_logstd = keras.layers.Dense(units=n_latent, activation=lambda x: tf.clip_by_value(x, -10, 10),\n",
    "                           name='q_logstd')(x)"
   ]
  },
  {
   "cell_type": "markdown",
   "metadata": {},
   "source": [
    "### Variational distribution"
   ]
  },
  {
   "cell_type": "code",
   "execution_count": 934,
   "metadata": {
    "collapsed": true
   },
   "outputs": [],
   "source": [
    "q_z = tfp.distributions.Normal(loc=q_mu, scale=tf.compat.v1.exp(q_logstd))\n",
    "\n",
    "# ---- sample the latent value\n",
    "l_z = q_z.sample(n_pl)                    # shape [n_samples, batch_size, dl]\n",
    "l_z = tf.compat.v1.transpose(l_z, perm=[1, 0, 2])   # shape [batch_size, n_samples, dl]"
   ]
  },
  {
   "cell_type": "markdown",
   "metadata": {},
   "source": [
    "### Decoder"
   ]
  },
  {
   "cell_type": "code",
   "execution_count": 935,
   "metadata": {
    "collapsed": true
   },
   "outputs": [
    {
     "name": "stdout",
     "output_type": "stream",
     "text": [
      "(None, None, 11)\n"
     ]
    }
   ],
   "source": [
    "mu = keras.layers.Dense(units=D, activation=None, name='mu')(l_z)\n",
    "print(mu.shape)"
   ]
  },
  {
   "cell_type": "markdown",
   "metadata": {},
   "source": [
    "### Observation model / likelihood function"
   ]
  },
  {
   "cell_type": "code",
   "execution_count": 936,
   "metadata": {
    "collapsed": true
   },
   "outputs": [],
   "source": [
    "p_x_given_z = tfp.distributions.Normal(loc=mu, scale=tf.exp(logstd))"
   ]
  },
  {
   "cell_type": "markdown",
   "metadata": {},
   "source": [
    "## New missing model :"
   ]
  },
  {
   "cell_type": "markdown",
   "metadata": {},
   "source": [
    "### Encoder : "
   ]
  },
  {
   "cell_type": "code",
   "execution_count": 937,
   "metadata": {},
   "outputs": [],
   "source": [
    "x_m = keras.layers.Dense(units=n_hidden, activation=tf.nn.tanh, name='l_enc1')(x_pl)\n",
    "x_m = keras.layers.Dense(units=n_hidden, activation=tf.nn.tanh, name='l_enc2')(x_m)\n",
    "\n",
    "q_mu_m = keras.layers.Dense(units=n_latent, activation=None, name='q_mu')(x_m)\n",
    "\n",
    "q_logstd_m = keras.layers.Dense(units=n_latent, activation=lambda x: tf.clip_by_value(x, -10, 10),\n",
    "                           name='q_logstd')(x_m)"
   ]
  },
  {
   "cell_type": "markdown",
   "metadata": {},
   "source": [
    "### Decoder"
   ]
  },
  {
   "cell_type": "code",
   "execution_count": 938,
   "metadata": {},
   "outputs": [
    {
     "name": "stdout",
     "output_type": "stream",
     "text": [
      "(None, None, 11)\n"
     ]
    }
   ],
   "source": [
    "q_z_m = tfp.distributions.Normal(loc=q_mu_m, scale=tf.compat.v1.exp(q_logstd_m))\n",
    "\n",
    "# ---- sample the latent value\n",
    "l_z_m = q_z_m.sample(n_pl)                    # shape [n_samples, batch_size, dl]\n",
    "print(l_z_m.shape)\n",
    "l_z_m = tf.compat.v1.transpose(l_z_m, perm=[1, 0, 2])   # shape [batch_size, n_samples, n_latent]\n",
    "\n",
    "mu_m = keras.layers.Dense(units=D, activation=tf.nn.tanh, name='mu')(l_z_m)\n"
   ]
  },
  {
   "cell_type": "markdown",
   "metadata": {},
   "source": [
    "### Combined input"
   ]
  },
  {
   "cell_type": "code",
   "execution_count": 939,
   "metadata": {},
   "outputs": [],
   "source": [
    "l_out_mixed =  tf.compat.v1.expand_dims(x_pl * s_pl, axis=1) + mu * tf.compat.v1.expand_dims(1 - s_pl, axis=1) "
   ]
  },
  {
   "cell_type": "markdown",
   "metadata": {},
   "source": [
    "### Missing Model combining input and latent variable "
   ]
  },
  {
   "cell_type": "markdown",
   "metadata": {},
   "source": [
    "We include the missing model as a logistic regression in each feature dimension and output of the previous decoder which is dependind on the latent variable.\n",
    "\n",
    "$$ p_{\\phi}(\\mathbf{s} | \\mathbf{x^o, x^m,z_{mask}}) = \\text{Bern}(\\mathbf{s} | \\pi_{\\phi}(\\mathbf{x^o, x^m,z_{mask}}))$$\n",
    "\n",
    "$$ \\pi_{\\phi, j}(x_j) = \\frac{1}{1 + e^{-\\text{logits}_j}} $$\n",
    "\n",
    "$$ \\text{logits}_j = W_j (x_j - b_j) + \\gamma \\mu_m$$\n"
   ]
  },
  {
   "cell_type": "code",
   "execution_count": null,
   "metadata": {},
   "outputs": [],
   "source": [
    "\n",
    "W = tf.compat.v1.get_variable('W', shape=[1, 1, D ]) \n",
    "#W_soft = -tf.compat.v1.nn.softplus(W) #self-masking known\n",
    "b = tf.compat.v1.get_variable('b', shape=[1, 1, D ])\n",
    "\n",
    "gamma = tf.compat.v1.get_variable('gamma', shape=[1, 1, n_latent], initializer=tf.initializers.glorot_uniform())\n",
    "mu_m_p = tf.compat.v1.expand_dims(tf.compat.v1.reduce_mean(mu_m, axis=1), axis=1)\n",
    "logits = - W * (l_out_mixed - b) + gamma * mu_m\n",
    "\n",
    "# Calcul de la distribution Bernoulli pour le masque\n",
    "p_s_given_x_z_mask = tfp.distributions.Bernoulli(logits=logits)\n",
    "log_p_s_probs = p_s_given_x_z_mask.log_prob(tf.compat.v1.expand_dims(s_pl, axis=1))\n"
   ]
  },
  {
   "cell_type": "markdown",
   "metadata": {},
   "source": [
    "### Evaluating likelihoods"
   ]
  },
  {
   "cell_type": "code",
   "execution_count": 942,
   "metadata": {},
   "outputs": [],
   "source": [
    "# ---- evaluate the observed data in p(x|z)\n",
    "log_p_x_given_z = tf.compat.v1.reduce_sum(tf.compat.v1.expand_dims(s_pl, axis=1) * \n",
    "                                p_x_given_z.log_prob(tf.compat.v1.expand_dims(x_pl, axis=1)), axis=-1)  # sum over d-dimension\n",
    "\n",
    "# --- evaluate the z-samples in q(z|x)\n",
    "q_z2 = tfp.distributions.Normal(loc=tf.compat.v1.expand_dims(q_z.loc, axis=1), scale=tf.compat.v1.expand_dims(q_z.scale, axis=1))\n",
    "log_q_z_given_x = tf.compat.v1.reduce_sum(q_z2.log_prob(l_z), axis=-1)\n",
    "\n",
    "## NEW ##\n",
    "# --- evaluate the z-samples in q(z_mask|x)\n",
    "q_z2_m = tfp.distributions.Normal(loc=tf.compat.v1.expand_dims(q_z_m.loc, axis=1), scale=tf.compat.v1.expand_dims(q_z_m.scale, axis=1))\n",
    "log_q_z_mask_given_x = tf.compat.v1.reduce_sum(q_z2_m.log_prob(l_z_m), axis=-1)\n",
    "\n",
    "# ---- evaluate the z-samples in the prior p(z)\n",
    "prior = tfp.distributions.Normal(loc=0.0, scale=1.0)\n",
    "log_p_z = tf.compat.v1.reduce_sum(prior.log_prob(l_z), axis=-1)\n",
    "\n",
    "## NEW ##\n",
    "# ---- evaluate the z-samples in the prior p(z_mask)\n",
    "prior = tfp.distributions.Normal(loc=0.0, scale=1.0)\n",
    "log_p_z_mask = tf.compat.v1.reduce_sum(prior.log_prob(l_z_m), axis=-1)\n",
    "\n",
    "## NEW ##\n",
    "# ---- evaluate the observed data in p(s|z_mask)\n",
    "prob = p_s_given_x_z_mask.log_prob(tf.compat.v1.expand_dims(s_pl, axis=1))\n",
    "log_p_s_given_x_z_mask = tf.compat.v1.reduce_sum(  prob, axis=-1)  # sum over d-dimension"
   ]
  },
  {
   "cell_type": "markdown",
   "metadata": {},
   "source": [
    "### Losses for the MIWAE and not-MIWAE respectively"
   ]
  },
  {
   "cell_type": "code",
   "execution_count": 943,
   "metadata": {
    "collapsed": true
   },
   "outputs": [],
   "source": [
    "lpxz = log_p_x_given_z\n",
    "lpz = log_p_z\n",
    "lqzmx = log_q_z_mask_given_x\n",
    "lqzx = log_q_z_given_x\n",
    "lpsxzm = log_p_s_given_x_z_mask\n",
    "lpzm = log_p_z_mask\n",
    "\n",
    "# ---- MIWAE\n",
    "# ---- importance weights :\n",
    "l_w = lpxz + lpz - lqzx\n",
    "\n",
    "# ---- sum over samples\n",
    "log_sum_w = tf.compat.v1.reduce_logsumexp(l_w, axis=1)\n",
    "\n",
    "# ---- average over samples\n",
    "log_avg_weight = log_sum_w - tf.compat.v1.log(tf.compat.v1.cast(n_pl, tf.compat.v1.float32))\n",
    "\n",
    "# ---- average over minibatch to get the average llh\n",
    "MIWAE = tf.compat.v1.reduce_mean(log_avg_weight, axis=-1)\n",
    "\n",
    "\n",
    "# ---- not-MIWAE\n",
    "# ---- importance weights :\n",
    "l_w = lpxz + lpz - lqzx   + lpsxzm + lpzm - lqzmx\n",
    "\n",
    "# ---- sum over samples\n",
    "log_sum_w = tf.compat.v1.reduce_logsumexp(l_w, axis=1)\n",
    "\n",
    "# ---- average over samples\n",
    "log_avg_weight = log_sum_w - tf.compat.v1.log(tf.compat.v1.cast(n_pl, tf.compat.v1.float32))\n",
    "\n",
    "# ---- average over minibatch to get the average llh\n",
    "notMIWAE = tf.compat.v1.reduce_mean(log_avg_weight, axis=-1)\n"
   ]
  },
  {
   "cell_type": "code",
   "execution_count": 944,
   "metadata": {},
   "outputs": [],
   "source": [
    "def imputationRMSE(sess, Xorg, Xnan, L):\n",
    "\n",
    "    N = len(Xorg)\n",
    "    \n",
    "    Xz = Xnan.copy()\n",
    "    Xz[np.isnan(Xnan)] = 0\n",
    "    S = np.array(~np.isnan(Xnan), dtype=np.float32)\n",
    "\n",
    "    def softmax(x):\n",
    "        e_x = np.exp(x - np.max(x, axis=1)[:, None])\n",
    "        return e_x / e_x.sum(axis=1)[:, None]\n",
    "\n",
    "    def imp(xz, s, L):\n",
    "        _mu, _log_p_x_given_z, _log_p_z, _log_q_z_given_x = sess.run(\n",
    "            [mu, log_p_x_given_z, log_p_z, log_q_z_given_x],\n",
    "            {x_pl: xz, s_pl: s, n_pl: L})\n",
    "\n",
    "        wl = softmax(_log_p_x_given_z + _log_p_z - _log_q_z_given_x)\n",
    "\n",
    "        xm = np.sum((_mu.T * wl.T).T, axis=1)\n",
    "        xmix = xz + xm * (1 - s)\n",
    "\n",
    "        return _mu, wl, xm, xmix\n",
    "\n",
    "    XM = np.zeros_like(Xorg)\n",
    "\n",
    "    for i in range(N):\n",
    "\n",
    "        xz = Xz[i, :][None, :]\n",
    "        s = S[i, :][None, :]\n",
    "\n",
    "        _mu, wl, xm, xmix = imp(xz, s, L)\n",
    "\n",
    "        XM[i, :] = xm\n",
    "\n",
    "        if i % 100 == 0:\n",
    "            print('{0} / {1}'.format(i, N))\n",
    "\n",
    "    return np.sqrt(np.sum((Xorg - XM) ** 2 * (1 - S)) / np.sum(1 - S)), XM\n",
    "\n",
    "\n",
    "def not_imputationRMSE(sess, Xorg, Xnan, L):\n",
    "\n",
    "    N = len(Xorg)\n",
    "    \n",
    "    Xz = Xnan.copy()\n",
    "    Xz[np.isnan(Xnan)] = 0\n",
    "    S = np.array(~np.isnan(Xnan), dtype=np.float32)\n",
    "\n",
    "    def softmax(x):\n",
    "        e_x = np.exp(x - np.max(x, axis=1)[:, None])\n",
    "        return e_x / e_x.sum(axis=1)[:, None]\n",
    "\n",
    "    def imp(xz, s, L):\n",
    "        _mu, _log_p_x_given_z, _log_p_z, _log_q_z_given_x,_log_p_s_given_x_z_mask,_log_p_z_mask,_log_q_z_mask_given_x  = sess.run(\n",
    "            [mu, log_p_x_given_z, log_p_z, log_q_z_given_x, log_p_s_given_x_z_mask,log_p_z_mask,log_q_z_mask_given_x],\n",
    "            {x_pl: xz, s_pl: s, n_pl: L})\n",
    "\n",
    "        wl = softmax(_log_p_x_given_z  + _log_p_z - _log_q_z_given_x + _log_p_s_given_x_z_mask + _log_p_z_mask - _log_q_z_mask_given_x)\n",
    "\n",
    "        xm = np.sum((_mu.T * wl.T).T, axis=1)\n",
    "        xmix = xz + xm * (1 - s)\n",
    "\n",
    "        return _mu, wl, xm, xmix\n",
    "\n",
    "    XM = np.zeros_like(Xorg)\n",
    "\n",
    "    for i in range(N):\n",
    "\n",
    "        xz = Xz[i, :][None, :]\n",
    "        s = S[i, :][None, :]\n",
    "\n",
    "        _mu, wl, xm, xmix = imp(xz, s, L)\n",
    "\n",
    "        XM[i, :] = xm\n",
    "\n",
    "        #if i % 100 == 0:\n",
    "            #print('{0} / {1}'.format(i, N))\n",
    "\n",
    "    return np.sqrt(np.sum((Xorg - XM) ** 2 * (1 - S)) / np.sum(1 - S)), XM\n"
   ]
  },
  {
   "cell_type": "markdown",
   "metadata": {},
   "source": [
    "### Training stuff"
   ]
  },
  {
   "cell_type": "code",
   "execution_count": 945,
   "metadata": {
    "collapsed": true
   },
   "outputs": [],
   "source": [
    "# ---- training stuff\n",
    "config = tf.compat.v1.ConfigProto()\n",
    "config.gpu_options.allow_growth = True\n",
    "sess = tf.compat.v1.Session(config=config)\n",
    "global_step = tf.compat.v1.Variable(initial_value=0, trainable=False)\n",
    "optimizer = tf.compat.v1.train.AdamOptimizer()"
   ]
  },
  {
   "cell_type": "markdown",
   "metadata": {},
   "source": [
    "### Choose wether you want to train the MIWAE or the notMIWAE"
   ]
  },
  {
   "cell_type": "code",
   "execution_count": 946,
   "metadata": {
    "collapsed": true
   },
   "outputs": [],
   "source": [
    "loss = -notMIWAE\n",
    "# loss = -MIWAE\n",
    "\n",
    "tvars = tf.compat.v1.trainable_variables()\n",
    "train_op = optimizer.minimize(loss, global_step=global_step, var_list=tvars)\n",
    "sess.run(tf.compat.v1.global_variables_initializer())"
   ]
  },
  {
   "cell_type": "markdown",
   "metadata": {},
   "source": [
    "### Do the training"
   ]
  },
  {
   "cell_type": "code",
   "execution_count": null,
   "metadata": {},
   "outputs": [
    {
     "name": "stdout",
     "output_type": "stream",
     "text": [
      "0/100000 updates, 0.39 s, 21.81 train_loss, 21.93 val_loss,  9.62 accuracy \n",
      "Iteration 0, RMSE :  1.2226662739392904\n",
      "500/100000 updates, 10.89 s, 16.31 train_loss, 15.70 val_loss,  11.10 accuracy \n",
      "1000/100000 updates, 1.17 s, 15.14 train_loss, 13.97 val_loss,  12.64 accuracy \n",
      "1500/100000 updates, 1.17 s, 12.96 train_loss, 13.05 val_loss,  13.52 accuracy \n",
      "2000/100000 updates, 1.16 s, 11.57 train_loss, 12.67 val_loss,  13.88 accuracy \n",
      "2500/100000 updates, 1.17 s, 11.68 train_loss, 12.42 val_loss,  14.16 accuracy \n",
      "3000/100000 updates, 1.20 s, 11.81 train_loss, 12.32 val_loss,  14.28 accuracy \n",
      "3500/100000 updates, 1.22 s, 12.83 train_loss, 12.08 val_loss,  14.36 accuracy \n",
      "4000/100000 updates, 1.23 s, 12.13 train_loss, 12.09 val_loss,  14.35 accuracy \n",
      "4500/100000 updates, 1.45 s, 10.96 train_loss, 11.99 val_loss,  14.47 accuracy \n",
      "5000/100000 updates, 1.19 s, 11.58 train_loss, 11.94 val_loss,  14.49 accuracy \n",
      "Iteration 5000, RMSE :  1.3157868219609987\n",
      "5500/100000 updates, 7.24 s, 11.90 train_loss, 11.83 val_loss,  14.52 accuracy \n",
      "6000/100000 updates, 1.25 s, 12.12 train_loss, 11.86 val_loss,  14.48 accuracy \n",
      "6500/100000 updates, 1.23 s, 11.75 train_loss, 11.78 val_loss,  14.55 accuracy \n",
      "7000/100000 updates, 1.22 s, 11.28 train_loss, 11.78 val_loss,  14.54 accuracy \n",
      "7500/100000 updates, 1.29 s, 11.15 train_loss, 11.80 val_loss,  14.69 accuracy \n",
      "8000/100000 updates, 1.31 s, 11.46 train_loss, 11.70 val_loss,  14.62 accuracy \n",
      "8500/100000 updates, 1.24 s, 11.54 train_loss, 11.76 val_loss,  14.57 accuracy \n",
      "9000/100000 updates, 1.32 s, 13.27 train_loss, 11.72 val_loss,  14.58 accuracy \n",
      "9500/100000 updates, 1.26 s, 11.34 train_loss, 11.63 val_loss,  14.62 accuracy \n",
      "10000/100000 updates, 1.20 s, 11.40 train_loss, 11.68 val_loss,  14.60 accuracy \n",
      "Iteration 10000, RMSE :  1.2137738142988452\n",
      "10500/100000 updates, 8.55 s, 11.25 train_loss, 11.65 val_loss,  14.62 accuracy \n",
      "11000/100000 updates, 1.28 s, 13.93 train_loss, 11.64 val_loss,  14.59 accuracy \n",
      "11500/100000 updates, 1.34 s, 11.34 train_loss, 11.59 val_loss,  14.68 accuracy \n",
      "12000/100000 updates, 1.49 s, 12.38 train_loss, 11.62 val_loss,  14.67 accuracy \n",
      "12500/100000 updates, 1.50 s, 11.74 train_loss, 11.55 val_loss,  14.70 accuracy \n",
      "13000/100000 updates, 1.29 s, 10.74 train_loss, 11.58 val_loss,  14.65 accuracy \n",
      "13500/100000 updates, 1.27 s, 11.05 train_loss, 11.57 val_loss,  14.69 accuracy \n",
      "14000/100000 updates, 1.22 s, 11.69 train_loss, 11.51 val_loss,  14.65 accuracy \n",
      "14500/100000 updates, 1.21 s, 11.42 train_loss, 11.53 val_loss,  14.74 accuracy \n",
      "15000/100000 updates, 1.36 s, 10.46 train_loss, 11.51 val_loss,  14.77 accuracy \n",
      "Iteration 15000, RMSE :  1.1321046036737206\n",
      "15500/100000 updates, 8.65 s, 10.84 train_loss, 11.57 val_loss,  14.80 accuracy \n",
      "16000/100000 updates, 1.41 s, 10.55 train_loss, 11.54 val_loss,  14.68 accuracy \n",
      "16500/100000 updates, 1.38 s, 10.79 train_loss, 11.48 val_loss,  14.76 accuracy \n",
      "17000/100000 updates, 1.26 s, 10.92 train_loss, 11.50 val_loss,  14.81 accuracy \n",
      "17500/100000 updates, 1.76 s, 11.23 train_loss, 11.56 val_loss,  14.83 accuracy \n",
      "18000/100000 updates, 1.54 s, 10.57 train_loss, 11.53 val_loss,  14.86 accuracy \n",
      "18500/100000 updates, 1.32 s, 11.44 train_loss, 11.45 val_loss,  14.77 accuracy \n",
      "19000/100000 updates, 1.38 s, 12.56 train_loss, 11.51 val_loss,  14.77 accuracy \n",
      "19500/100000 updates, 1.37 s, 10.61 train_loss, 11.47 val_loss,  14.83 accuracy \n",
      "20000/100000 updates, 1.44 s, 11.02 train_loss, 11.50 val_loss,  14.84 accuracy \n",
      "Iteration 20000, RMSE :  1.0856019768379463\n",
      "20500/100000 updates, 8.65 s, 11.39 train_loss, 11.44 val_loss,  14.83 accuracy \n",
      "21000/100000 updates, 1.69 s, 10.57 train_loss, 11.47 val_loss,  14.85 accuracy \n",
      "21500/100000 updates, 1.55 s, 11.35 train_loss, 11.44 val_loss,  14.85 accuracy \n",
      "22000/100000 updates, 1.54 s, 10.54 train_loss, 11.46 val_loss,  14.84 accuracy \n",
      "22500/100000 updates, 1.73 s, 11.42 train_loss, 11.45 val_loss,  14.84 accuracy \n",
      "23000/100000 updates, 1.48 s, 11.18 train_loss, 11.44 val_loss,  14.90 accuracy \n",
      "23500/100000 updates, 1.44 s, 11.54 train_loss, 11.50 val_loss,  14.80 accuracy \n",
      "24000/100000 updates, 1.54 s, 10.55 train_loss, 11.41 val_loss,  14.88 accuracy \n",
      "24500/100000 updates, 1.48 s, 12.47 train_loss, 11.44 val_loss,  14.89 accuracy \n",
      "25000/100000 updates, 1.80 s, 11.71 train_loss, 11.44 val_loss,  14.87 accuracy \n",
      "Iteration 25000, RMSE :  1.063316871870498\n",
      "25500/100000 updates, 8.86 s, 11.11 train_loss, 11.41 val_loss,  14.91 accuracy \n",
      "26000/100000 updates, 1.95 s, 11.77 train_loss, 11.42 val_loss,  14.84 accuracy \n",
      "26500/100000 updates, 3.36 s, 12.40 train_loss, 11.42 val_loss,  14.92 accuracy \n",
      "27000/100000 updates, 5.90 s, 11.53 train_loss, 11.43 val_loss,  14.84 accuracy \n",
      "27500/100000 updates, 4.40 s, 10.06 train_loss, 11.42 val_loss,  14.96 accuracy \n",
      "28000/100000 updates, 4.50 s, 10.02 train_loss, 11.42 val_loss,  14.91 accuracy \n",
      "28500/100000 updates, 5.03 s, 10.91 train_loss, 11.42 val_loss,  14.97 accuracy \n",
      "29000/100000 updates, 3.51 s, 11.66 train_loss, 11.41 val_loss,  14.92 accuracy \n",
      "29500/100000 updates, 3.00 s, 12.28 train_loss, 11.47 val_loss,  14.93 accuracy \n",
      "30000/100000 updates, 2.82 s, 11.34 train_loss, 11.37 val_loss,  14.90 accuracy \n",
      "Iteration 30000, RMSE :  1.0488112174752489\n",
      "30500/100000 updates, 13.84 s, 10.81 train_loss, 11.45 val_loss,  14.86 accuracy \n",
      "31000/100000 updates, 4.67 s, 10.91 train_loss, 11.40 val_loss,  14.95 accuracy \n",
      "31500/100000 updates, 2.52 s, 12.04 train_loss, 11.48 val_loss,  14.90 accuracy \n",
      "32000/100000 updates, 2.55 s, 10.67 train_loss, 11.40 val_loss,  14.92 accuracy \n",
      "32500/100000 updates, 2.45 s, 12.33 train_loss, 11.44 val_loss,  14.96 accuracy \n",
      "33000/100000 updates, 2.31 s, 10.37 train_loss, 11.38 val_loss,  14.92 accuracy \n",
      "33500/100000 updates, 2.38 s, 10.61 train_loss, 11.43 val_loss,  14.97 accuracy \n",
      "34000/100000 updates, 2.55 s, 11.32 train_loss, 11.40 val_loss,  14.92 accuracy \n",
      "34500/100000 updates, 2.27 s, 11.14 train_loss, 11.50 val_loss,  14.92 accuracy \n",
      "35000/100000 updates, 2.23 s, 11.04 train_loss, 11.38 val_loss,  14.90 accuracy \n",
      "Iteration 35000, RMSE :  1.0361431387474187\n",
      "35500/100000 updates, 10.33 s, 11.29 train_loss, 11.42 val_loss,  14.93 accuracy \n",
      "36000/100000 updates, 2.45 s, 11.64 train_loss, 11.38 val_loss,  14.95 accuracy \n",
      "36500/100000 updates, 2.06 s, 11.98 train_loss, 11.38 val_loss,  14.88 accuracy \n",
      "37000/100000 updates, 2.17 s, 11.63 train_loss, 11.38 val_loss,  14.94 accuracy \n",
      "37500/100000 updates, 2.28 s, 12.31 train_loss, 11.39 val_loss,  14.92 accuracy \n",
      "38000/100000 updates, 1.96 s, 10.59 train_loss, 11.36 val_loss,  14.95 accuracy \n",
      "38500/100000 updates, 1.57 s, 11.35 train_loss, 11.44 val_loss,  14.98 accuracy \n",
      "39000/100000 updates, 2.34 s, 10.45 train_loss, 11.35 val_loss,  15.00 accuracy \n",
      "39500/100000 updates, 1.71 s, 10.57 train_loss, 11.37 val_loss,  14.98 accuracy \n",
      "40000/100000 updates, 1.70 s, 11.45 train_loss, 11.38 val_loss,  14.91 accuracy \n",
      "Iteration 40000, RMSE :  1.030716455928753\n",
      "40500/100000 updates, 10.75 s, 12.64 train_loss, 11.35 val_loss,  14.91 accuracy \n",
      "41000/100000 updates, 2.14 s, 10.44 train_loss, 11.35 val_loss,  14.94 accuracy \n",
      "41500/100000 updates, 1.67 s, 11.63 train_loss, 11.36 val_loss,  14.90 accuracy \n",
      "42000/100000 updates, 1.72 s, 11.72 train_loss, 11.36 val_loss,  14.92 accuracy \n",
      "42500/100000 updates, 1.76 s, 10.50 train_loss, 11.43 val_loss,  14.98 accuracy \n",
      "43000/100000 updates, 1.62 s, 11.09 train_loss, 11.35 val_loss,  14.92 accuracy \n",
      "43500/100000 updates, 1.43 s, 11.82 train_loss, 11.34 val_loss,  14.90 accuracy \n",
      "44000/100000 updates, 1.44 s, 11.25 train_loss, 11.35 val_loss,  14.91 accuracy \n",
      "44500/100000 updates, 1.97 s, 11.16 train_loss, 11.35 val_loss,  14.95 accuracy \n",
      "45000/100000 updates, 2.20 s, 11.90 train_loss, 11.36 val_loss,  14.94 accuracy \n",
      "Iteration 45000, RMSE :  1.0238580623523985\n",
      "45500/100000 updates, 8.59 s, 9.99 train_loss, 11.34 val_loss,  15.00 accuracy \n",
      "46000/100000 updates, 2.39 s, 10.13 train_loss, 11.39 val_loss,  15.01 accuracy \n",
      "46500/100000 updates, 1.81 s, 11.65 train_loss, 11.42 val_loss,  15.03 accuracy \n",
      "47000/100000 updates, 1.85 s, 10.98 train_loss, 11.40 val_loss,  14.91 accuracy \n",
      "47500/100000 updates, 1.43 s, 11.16 train_loss, 11.34 val_loss,  14.91 accuracy \n",
      "48000/100000 updates, 1.41 s, 10.87 train_loss, 11.32 val_loss,  14.91 accuracy \n",
      "48500/100000 updates, 1.55 s, 12.22 train_loss, 11.35 val_loss,  14.93 accuracy \n",
      "49000/100000 updates, 1.64 s, 10.81 train_loss, 11.32 val_loss,  14.94 accuracy \n",
      "49500/100000 updates, 2.18 s, 10.98 train_loss, 11.34 val_loss,  14.98 accuracy \n",
      "50000/100000 updates, 2.07 s, 10.62 train_loss, 11.32 val_loss,  14.97 accuracy \n",
      "Iteration 50000, RMSE :  1.0255030084969894\n",
      "50500/100000 updates, 8.54 s, 12.65 train_loss, 11.34 val_loss,  14.99 accuracy \n",
      "51000/100000 updates, 2.25 s, 11.19 train_loss, 11.30 val_loss,  14.95 accuracy \n",
      "51500/100000 updates, 1.68 s, 10.11 train_loss, 11.37 val_loss,  14.94 accuracy \n",
      "52000/100000 updates, 1.45 s, 11.86 train_loss, 11.32 val_loss,  14.93 accuracy \n",
      "52500/100000 updates, 1.41 s, 11.64 train_loss, 11.39 val_loss,  15.00 accuracy \n",
      "53000/100000 updates, 1.44 s, 10.25 train_loss, 11.36 val_loss,  14.99 accuracy \n",
      "53500/100000 updates, 2.08 s, 11.44 train_loss, 11.37 val_loss,  14.96 accuracy \n",
      "54000/100000 updates, 2.25 s, 12.65 train_loss, 11.34 val_loss,  14.95 accuracy \n",
      "54500/100000 updates, 2.08 s, 10.74 train_loss, 11.45 val_loss,  14.99 accuracy \n",
      "55000/100000 updates, 2.56 s, 10.97 train_loss, 11.40 val_loss,  14.96 accuracy \n",
      "Iteration 55000, RMSE :  1.0232687363194213\n",
      "55500/100000 updates, 8.89 s, 10.99 train_loss, 11.41 val_loss,  14.96 accuracy \n",
      "56000/100000 updates, 2.28 s, 11.25 train_loss, 11.31 val_loss,  14.89 accuracy \n",
      "56500/100000 updates, 1.47 s, 10.93 train_loss, 11.35 val_loss,  14.93 accuracy \n",
      "57000/100000 updates, 1.44 s, 11.87 train_loss, 11.33 val_loss,  15.03 accuracy \n",
      "57500/100000 updates, 1.45 s, 10.37 train_loss, 11.39 val_loss,  14.92 accuracy \n",
      "58000/100000 updates, 1.76 s, 10.68 train_loss, 11.30 val_loss,  14.92 accuracy \n",
      "58500/100000 updates, 1.97 s, 11.55 train_loss, 11.40 val_loss,  14.95 accuracy \n",
      "59000/100000 updates, 1.88 s, 10.70 train_loss, 11.33 val_loss,  14.97 accuracy \n",
      "59500/100000 updates, 2.05 s, 10.81 train_loss, 11.35 val_loss,  14.96 accuracy \n",
      "60000/100000 updates, 2.03 s, 10.61 train_loss, 11.40 val_loss,  15.06 accuracy \n",
      "Iteration 60000, RMSE :  1.0153790178078947\n",
      "60500/100000 updates, 8.60 s, 10.71 train_loss, 11.35 val_loss,  15.01 accuracy \n",
      "61000/100000 updates, 2.92 s, 11.28 train_loss, 11.38 val_loss,  14.99 accuracy \n",
      "61500/100000 updates, 1.90 s, 11.36 train_loss, 11.37 val_loss,  14.95 accuracy \n",
      "62000/100000 updates, 1.56 s, 10.59 train_loss, 11.40 val_loss,  15.04 accuracy \n",
      "62500/100000 updates, 1.50 s, 10.39 train_loss, 11.32 val_loss,  15.04 accuracy \n",
      "63000/100000 updates, 1.51 s, 11.89 train_loss, 11.34 val_loss,  14.95 accuracy \n",
      "63500/100000 updates, 2.78 s, 11.56 train_loss, 11.32 val_loss,  15.02 accuracy \n",
      "64000/100000 updates, 2.10 s, 12.16 train_loss, 11.31 val_loss,  14.96 accuracy \n",
      "64500/100000 updates, 1.97 s, 11.63 train_loss, 11.31 val_loss,  14.89 accuracy \n",
      "65000/100000 updates, 2.16 s, 11.42 train_loss, 11.38 val_loss,  14.93 accuracy \n",
      "Iteration 65000, RMSE :  1.0109592787459527\n",
      "65500/100000 updates, 8.65 s, 11.50 train_loss, 12.87 val_loss,  14.99 accuracy \n",
      "66000/100000 updates, 2.56 s, 11.37 train_loss, 11.79 val_loss,  14.92 accuracy \n",
      "66500/100000 updates, 1.94 s, 11.87 train_loss, 11.42 val_loss,  14.94 accuracy \n",
      "67000/100000 updates, 1.54 s, 12.15 train_loss, 11.33 val_loss,  14.96 accuracy \n",
      "67500/100000 updates, 1.56 s, 10.94 train_loss, 11.34 val_loss,  14.95 accuracy \n",
      "68000/100000 updates, 1.60 s, 11.28 train_loss, 11.32 val_loss,  14.95 accuracy \n",
      "68500/100000 updates, 2.80 s, 11.40 train_loss, 11.27 val_loss,  14.93 accuracy \n",
      "69000/100000 updates, 2.44 s, 10.82 train_loss, 11.39 val_loss,  14.96 accuracy \n",
      "69500/100000 updates, 2.31 s, 11.75 train_loss, 11.29 val_loss,  14.95 accuracy \n",
      "70000/100000 updates, 2.07 s, 11.73 train_loss, 11.31 val_loss,  14.95 accuracy \n",
      "Iteration 70000, RMSE :  1.006822153328326\n",
      "70500/100000 updates, 8.66 s, 10.76 train_loss, 11.35 val_loss,  15.02 accuracy \n",
      "71000/100000 updates, 2.45 s, 11.92 train_loss, 11.34 val_loss,  15.00 accuracy \n",
      "71500/100000 updates, 1.62 s, 11.10 train_loss, 11.32 val_loss,  14.93 accuracy \n",
      "72000/100000 updates, 1.68 s, 10.72 train_loss, 11.28 val_loss,  15.00 accuracy \n",
      "72500/100000 updates, 1.61 s, 10.83 train_loss, 11.32 val_loss,  14.94 accuracy \n",
      "73000/100000 updates, 2.93 s, 10.93 train_loss, 11.37 val_loss,  14.97 accuracy \n",
      "73500/100000 updates, 3.18 s, 10.51 train_loss, 11.28 val_loss,  15.00 accuracy \n",
      "74000/100000 updates, 3.18 s, 11.08 train_loss, 11.36 val_loss,  14.99 accuracy \n",
      "74500/100000 updates, 2.55 s, 11.10 train_loss, 11.33 val_loss,  14.95 accuracy \n",
      "75000/100000 updates, 2.50 s, 11.64 train_loss, 11.38 val_loss,  15.01 accuracy \n",
      "Iteration 75000, RMSE :  1.013247439459218\n",
      "75500/100000 updates, 11.39 s, 10.64 train_loss, 11.32 val_loss,  14.92 accuracy \n",
      "76000/100000 updates, 4.24 s, 10.40 train_loss, 11.60 val_loss,  14.95 accuracy \n",
      "76500/100000 updates, 3.50 s, 11.52 train_loss, 11.30 val_loss,  14.91 accuracy \n",
      "77000/100000 updates, 3.27 s, 11.04 train_loss, 11.49 val_loss,  14.87 accuracy \n",
      "77500/100000 updates, 2.93 s, 11.29 train_loss, 11.32 val_loss,  14.91 accuracy \n",
      "78000/100000 updates, 2.56 s, 11.70 train_loss, 11.35 val_loss,  14.97 accuracy \n",
      "78500/100000 updates, 5.74 s, 10.37 train_loss, 11.30 val_loss,  15.00 accuracy \n",
      "79000/100000 updates, 6.20 s, 11.91 train_loss, 11.27 val_loss,  14.96 accuracy \n",
      "79500/100000 updates, 5.01 s, 10.72 train_loss, 11.28 val_loss,  14.99 accuracy \n",
      "80000/100000 updates, 4.12 s, 10.92 train_loss, 11.31 val_loss,  14.97 accuracy \n",
      "Iteration 80000, RMSE :  1.0039503447555924\n",
      "80500/100000 updates, 13.58 s, 10.34 train_loss, 11.34 val_loss,  15.02 accuracy \n",
      "81000/100000 updates, 4.94 s, 10.02 train_loss, 11.30 val_loss,  14.93 accuracy \n",
      "81500/100000 updates, 3.95 s, 10.69 train_loss, 11.28 val_loss,  15.00 accuracy \n",
      "82000/100000 updates, 3.69 s, 11.32 train_loss, 11.36 val_loss,  14.95 accuracy \n",
      "82500/100000 updates, 2.62 s, 11.66 train_loss, 11.32 val_loss,  14.94 accuracy \n",
      "83000/100000 updates, 2.19 s, 10.49 train_loss, 11.29 val_loss,  14.93 accuracy \n",
      "83500/100000 updates, 1.98 s, 12.53 train_loss, 11.28 val_loss,  14.95 accuracy \n",
      "84000/100000 updates, 3.51 s, 10.66 train_loss, 11.38 val_loss,  14.95 accuracy \n",
      "84500/100000 updates, 4.32 s, 11.86 train_loss, 11.34 val_loss,  14.95 accuracy \n",
      "85000/100000 updates, 5.04 s, 11.49 train_loss, 11.29 val_loss,  14.95 accuracy \n",
      "Iteration 85000, RMSE :  1.0058126484050904\n",
      "85500/100000 updates, 11.41 s, 11.01 train_loss, 11.31 val_loss,  14.93 accuracy \n",
      "86000/100000 updates, 3.12 s, 10.79 train_loss, 11.43 val_loss,  14.92 accuracy \n",
      "86500/100000 updates, 4.47 s, 10.56 train_loss, 11.30 val_loss,  14.94 accuracy \n",
      "87000/100000 updates, 2.91 s, 11.04 train_loss, 11.29 val_loss,  14.93 accuracy \n",
      "87500/100000 updates, 3.33 s, 11.50 train_loss, 11.33 val_loss,  14.87 accuracy \n",
      "88000/100000 updates, 2.56 s, 12.26 train_loss, 11.28 val_loss,  14.96 accuracy \n",
      "88500/100000 updates, 2.82 s, 12.22 train_loss, 11.30 val_loss,  14.89 accuracy \n",
      "89000/100000 updates, 2.38 s, 11.20 train_loss, 11.32 val_loss,  14.95 accuracy \n",
      "89500/100000 updates, 2.60 s, 10.88 train_loss, 11.27 val_loss,  14.94 accuracy \n",
      "90000/100000 updates, 2.80 s, 10.90 train_loss, 11.35 val_loss,  14.97 accuracy \n",
      "Iteration 90000, RMSE :  1.0074195293434396\n",
      "90500/100000 updates, 10.01 s, 10.86 train_loss, 11.28 val_loss,  14.91 accuracy \n",
      "91000/100000 updates, 2.22 s, 11.22 train_loss, 11.35 val_loss,  14.90 accuracy \n",
      "91500/100000 updates, 1.68 s, 10.87 train_loss, 11.31 val_loss,  14.93 accuracy \n",
      "92000/100000 updates, 1.23 s, 11.37 train_loss, 11.29 val_loss,  14.95 accuracy \n",
      "92500/100000 updates, 1.18 s, 11.02 train_loss, 11.30 val_loss,  14.88 accuracy \n",
      "93000/100000 updates, 1.22 s, 12.20 train_loss, 11.29 val_loss,  14.93 accuracy \n",
      "93500/100000 updates, 1.11 s, 11.56 train_loss, 11.24 val_loss,  14.94 accuracy \n",
      "94000/100000 updates, 1.20 s, 10.97 train_loss, 11.38 val_loss,  14.93 accuracy \n",
      "94500/100000 updates, 1.29 s, 10.62 train_loss, 11.32 val_loss,  14.97 accuracy \n",
      "95000/100000 updates, 1.18 s, 11.06 train_loss, 11.35 val_loss,  14.98 accuracy \n",
      "Iteration 95000, RMSE :  1.0043938246099204\n",
      "95500/100000 updates, 6.38 s, 10.11 train_loss, 11.28 val_loss,  14.93 accuracy \n",
      "96000/100000 updates, 1.57 s, 11.99 train_loss, 11.29 val_loss,  14.96 accuracy \n",
      "96500/100000 updates, 1.36 s, 11.38 train_loss, 11.27 val_loss,  14.99 accuracy \n",
      "97000/100000 updates, 1.46 s, 11.49 train_loss, 11.27 val_loss,  14.98 accuracy \n",
      "97500/100000 updates, 1.41 s, 11.51 train_loss, 11.28 val_loss,  14.97 accuracy \n",
      "98000/100000 updates, 1.32 s, 12.28 train_loss, 11.30 val_loss,  14.94 accuracy \n",
      "98500/100000 updates, 1.46 s, 10.47 train_loss, 11.32 val_loss,  14.86 accuracy \n",
      "99000/100000 updates, 1.16 s, 27.95 train_loss, 11.28 val_loss,  14.98 accuracy \n",
      "99500/100000 updates, 1.15 s, 10.00 train_loss, 11.27 val_loss,  14.96 accuracy \n"
     ]
    },
    {
     "data": {
      "image/png": "[encoded data removed]",
      "text/plain": [
       "<Figure size 1000x600 with 1 Axes>"
      ]
     },
     "metadata": {},
     "output_type": "display_data"
    },
    {
     "data": {
      "text/plain": [
       "<Figure size 640x480 with 0 Axes>"
      ]
     },
     "metadata": {},
     "output_type": "display_data"
    }
   ],
   "source": [
    "batch_pointer = 0\n",
    "\n",
    "start = time.time()\n",
    "best = float(\"inf\")\n",
    "Xval = data.copy()\n",
    "max_iter = 100000\n",
    "rmse_list=[]\n",
    "for i in range(max_iter):\n",
    "    x_batch = Xz[batch_pointer: batch_pointer + batch_size, :]\n",
    "    s_batch = S[batch_pointer: batch_pointer + batch_size, :]\n",
    "\n",
    "    _, _loss, _step = sess.run([train_op, loss, global_step], {x_pl: x_batch, s_pl: s_batch, n_pl: n_samples})\n",
    "\n",
    "    batch_pointer += batch_size\n",
    "    \n",
    "    if batch_pointer > N - batch_size:\n",
    "        batch_pointer = 0\n",
    "\n",
    "        p = np.random.permutation(N)\n",
    "        Xz = Xz[p, :]\n",
    "        S = S[p, :]\n",
    "    \n",
    "    if i % 500 == 0:\n",
    "        took = time.time() - start\n",
    "        start = time.time()\n",
    "        \n",
    "        # --- change the following batch if you want a true validation set\n",
    "        x_batch = Xz  \n",
    "        s_batch = S\n",
    "        \n",
    "        val_loss, _step = sess.run([loss, global_step], {x_pl: x_batch, s_pl: s_batch, n_pl: n_samples})\n",
    "\n",
    "\n",
    "        \n",
    "\n",
    "        print(\"{0}/{1} updates, {2:.2f} s, {3:.2f} train_loss, {4:.2f} val_loss\".format(i, max_iter, took, _loss, val_loss))\n",
    "    if i % 5000 == 0:\n",
    "        rmse, imputations = not_imputationRMSE(sess, Xval, Xnan, 1000)\n",
    "        print(f\"Iteration {i}, RMSE : \",rmse)\n",
    "        rmse_list.append(rmse)\n",
    "\n",
    "        \n",
    "\n",
    "import matplotlib.pyplot as plt\n",
    "\n",
    "iterations = list(range(0, len(rmse_list) * 5000, 5000))\n",
    "\n",
    "# Plot de la RMSE\n",
    "plt.figure(figsize=(10, 6))  \n",
    "plt.plot(iterations, rmse_list, marker='o', linestyle='-', color='b', linewidth=2, markersize=6, label='RMSE')\n",
    "\n",
    "plt.title(\"RMSE vs Iterations\", fontsize=14)\n",
    "plt.xlabel(\"Iterations\", fontsize=12)\n",
    "plt.ylabel(\"RMSE\", fontsize=12)\n",
    "plt.grid(True, linestyle='--', alpha=0.5)  \n",
    "plt.legend(loc=\"upper right\", fontsize=10)\n",
    "plt.tight_layout()\n",
    "plt.show()\n",
    "plt.savefig(\"rmse_vs_iterations_z_mask.png\", dpi=300)\n",
    "\n",
    "\n",
    "\n"
   ]
  },
  {
   "cell_type": "markdown",
   "metadata": {},
   "source": [
    "### Single imputation RMSE\n",
    "The *self-normalized importance sampling* approach for the MIWAE is described in this [paper](https://arxiv.org/pdf/1812.02633.pdf). This needs to be modified slightly in the MNAR case to account for the missing model, as described in the not-MIWAE paper"
   ]
  },
  {
   "cell_type": "markdown",
   "metadata": {},
   "source": [
    "### Calculate the single imputation RMSE using 10k importance samples\n",
    "If you used the MIWAE loss use the imputationRMSE \n",
    "\n",
    "If you used the notMIWAE loss use the not_imputationRMSE"
   ]
  },
  {
   "cell_type": "code",
   "execution_count": 948,
   "metadata": {},
   "outputs": [
    {
     "name": "stdout",
     "output_type": "stream",
     "text": [
      "imputation RMSE:  0.9961765665466428\n"
     ]
    }
   ],
   "source": [
    "# ---- S has been permuted during training, so just reinstantiate it\n",
    "S = np.array(~np.isnan(Xnan), dtype=np.float32)\n",
    "\n",
    "rmse, imputations = not_imputationRMSE(sess, Xtrain, Xnan, 10000)\n",
    "#rmse, imputations = imputationRMSE(sess, Xtrain, Xnan, 10000)\n",
    "\n",
    "print(\"imputation RMSE: \", rmse)"
   ]
  },
  {
   "cell_type": "markdown",
   "metadata": {},
   "source": [
    "### Compare to missForest and MICE"
   ]
  },
  {
   "cell_type": "code",
   "execution_count": 949,
   "metadata": {
    "collapsed": true
   },
   "outputs": [],
   "source": [
    "from sklearn.experimental import enable_iterative_imputer\n",
    "from sklearn.impute import IterativeImputer\n",
    "from sklearn.ensemble import RandomForestRegressor"
   ]
  },
  {
   "cell_type": "code",
   "execution_count": 950,
   "metadata": {},
   "outputs": [
    {
     "data": {
      "text/plain": [
       "' estimator = RandomForestRegressor(n_estimators=100)\\nimp = IterativeImputer(estimator=estimator)\\nimp.fit(Xnan)\\nXrec = imp.transform(Xnan)\\nrmse_mf = np.sqrt(np.sum((Xtrain - Xrec) ** 2 * (1 - S)) / np.sum(1 - S)) '"
      ]
     },
     "execution_count": 950,
     "metadata": {},
     "output_type": "execute_result"
    }
   ],
   "source": [
    "estimator = RandomForestRegressor(n_estimators=100)\n",
    "imp = IterativeImputer(estimator=estimator)\n",
    "imp.fit(Xnan)\n",
    "Xrec = imp.transform(Xnan)\n",
    "rmse_mf = np.sqrt(np.sum((Xtrain - Xrec) ** 2 * (1 - S)) / np.sum(1 - S))"
   ]
  },
  {
   "cell_type": "code",
   "execution_count": 951,
   "metadata": {},
   "outputs": [],
   "source": [
    "print(\"missForst imputation RMSE: \", rmse_mf)"
   ]
  },
  {
   "cell_type": "code",
   "execution_count": 952,
   "metadata": {
    "collapsed": true
   },
   "outputs": [],
   "source": [
    "imp = IterativeImputer(max_iter=100)\n",
    "imp.fit(Xnan)\n",
    "Xrec = imp.transform(Xnan)\n",
    "RMSE_iter = np.sqrt(np.sum((Xtrain - Xrec) ** 2 * (1 - S)) / np.sum(1 - S))"
   ]
  },
  {
   "cell_type": "code",
   "execution_count": 953,
   "metadata": {},
   "outputs": [
    {
     "name": "stdout",
     "output_type": "stream",
     "text": [
      "MICE, imputation RMSE 1.4102763723316922\n"
     ]
    }
   ],
   "source": [
    "print(\"MICE, imputation RMSE\", RMSE_iter)"
   ]
  },
  {
   "cell_type": "markdown",
   "metadata": {},
   "source": [
    "### Inspect the learned missing model\n",
    "There is a separate missing process in each feature dimesion, inspect each of them, plot as function of feature value."
   ]
  },
  {
   "cell_type": "code",
   "execution_count": null,
   "metadata": {},
   "outputs": [],
   "source": [
    "\n",
    "Xz = Xnan.copy()\n",
    "Xz[np.isnan(Xnan)] = 0\n",
    "S = np.array(~np.isnan(Xnan), dtype=np.float32)\n",
    "L=1000\n",
    "_W, _b,_l_z_m_p,_gamma = sess.run([W, b,mu_m_p,gamma],{x_pl: Xval, s_pl:S, n_pl: L})\n",
    "x = np.linspace(-2, 2, 100)\n",
    "\n",
    "def sigmoid(logits):\n",
    "    return 1 / (1 + np.exp(-logits))\n",
    "\n",
    "plt.figure()\n",
    "i=0\n",
    "for d in range(D // 2):\n",
    "    logits = _W[i][i][d] * (x - _b[i][i][d] )+ _gamma[i][i][d] * _l_z_m_p[i][i][d]\n",
    "    psx = sigmoid(logits)\n",
    "    plt.plot(x, psx)\n",
    "    \n",
    "plt.xlabel('feature value')\n",
    "plt.ylabel('$p(s|x)$')\n",
    "plt.show()\n",
    "plt.close()"
   ]
  },
  {
   "cell_type": "markdown",
   "metadata": {},
   "source": [
    "This should illustrate that the probability of the feature value being observed when it is below the feature mean should be close to 1, while the probability of being observed above the feature mean should be close to 0."
   ]
  },
  {
   "cell_type": "markdown",
   "metadata": {},
   "source": [
    "### Close the session"
   ]
  },
  {
   "cell_type": "code",
   "execution_count": 883,
   "metadata": {
    "collapsed": true
   },
   "outputs": [],
   "source": [
    "# sess.close()"
   ]
  }
 ],
 "metadata": {
  "kernelspec": {
   "display_name": "envPGM",
   "language": "python",
   "name": "python3"
  },
  "language_info": {
   "codemirror_mode": {
    "name": "ipython",
    "version": 3
   },
   "file_extension": ".py",
   "mimetype": "text/x-python",
   "name": "python",
   "nbconvert_exporter": "python",
   "pygments_lexer": "ipython3",
   "version": "3.12.7"
  }
 },
 "nbformat": 4,
 "nbformat_minor": 2
}
