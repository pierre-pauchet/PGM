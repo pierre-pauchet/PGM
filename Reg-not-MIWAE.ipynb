{
 "cells": [
  {
   "cell_type": "markdown",
   "metadata": {},
   "source": [
    "# not-MIWAE: Deep Generative Modelling with Missing not at Random Data\n",
    "This notebook illustrates how to fit a *deep latent variable model* to data affected by a missing process which depends on the missing data itself, i.e. *missing not at random*.\n",
    "\n",
    "We fit a linear PPCA-like model to a relatively small UCI dataset."
   ]
  },
  {
   "cell_type": "markdown",
   "metadata": {},
   "source": [
    "### Preamble"
   ]
  },
  {
   "cell_type": "code",
   "execution_count": 1,
   "metadata": {},
   "outputs": [
    {
     "name": "stdout",
     "output_type": "stream",
     "text": [
      "WARNING:tensorflow:From C:\\Users\\pipau\\AppData\\Local\\Packages\\PythonSoftwareFoundation.Python.3.12_qbz5n2kfra8p0\\LocalCache\\local-packages\\Python312\\site-packages\\tf_keras\\src\\losses.py:2976: The name tf.losses.sparse_softmax_cross_entropy is deprecated. Please use tf.compat.v1.losses.sparse_softmax_cross_entropy instead.\n",
      "\n",
      "WARNING:tensorflow:From C:\\Users\\pipau\\AppData\\Local\\Packages\\PythonSoftwareFoundation.Python.3.12_qbz5n2kfra8p0\\LocalCache\\local-packages\\Python312\\site-packages\\tensorflow_probability\\python\\internal\\backend\\numpy\\_utils.py:48: The name tf.logging.TaskLevelStatusMessage is deprecated. Please use tf.compat.v1.logging.TaskLevelStatusMessage instead.\n",
      "\n",
      "WARNING:tensorflow:From C:\\Users\\pipau\\AppData\\Local\\Packages\\PythonSoftwareFoundation.Python.3.12_qbz5n2kfra8p0\\LocalCache\\local-packages\\Python312\\site-packages\\tensorflow_probability\\python\\internal\\backend\\numpy\\_utils.py:48: The name tf.control_flow_v2_enabled is deprecated. Please use tf.compat.v1.control_flow_v2_enabled instead.\n",
      "\n",
      "WARNING:tensorflow:From C:\\Users\\pipau\\AppData\\Local\\Temp\\ipykernel_12976\\1965434597.py:23: The name tf.disable_v2_behavior is deprecated. Please use tf.compat.v1.disable_v2_behavior instead.\n",
      "\n",
      "WARNING:tensorflow:From C:\\Users\\pipau\\AppData\\Local\\Packages\\PythonSoftwareFoundation.Python.3.12_qbz5n2kfra8p0\\LocalCache\\local-packages\\Python312\\site-packages\\tensorflow\\python\\compat\\v2_compat.py:98: disable_resource_variables (from tensorflow.python.ops.resource_variables_toggle) is deprecated and will be removed in a future version.\n",
      "Instructions for updating:\n",
      "non-resource variables are not supported in the long term\n"
     ]
    }
   ],
   "source": [
    "import numpy as np\n",
    "import tensorflow.compat.v1 as tf\n",
    "import tensorflow_probability  as tfp\n",
    "import keras\n",
    "import matplotlib.pyplot as plt\n",
    "import pandas as pd\n",
    "import time\n",
    "from tqdm import tqdm\n",
    "from sklearn.model_selection import train_test_split\n",
    "# import sys\n",
    "# sys.path.append('./')\n",
    "\n",
    "import os\n",
    "os.environ[\"CUDA_VISIBLE_DEVICES\"] = \"6\"\n",
    "\n",
    "plt.rcParams[\"font.family\"] = \"serif\"\n",
    "plt.rcParams['font.size'] = 15.0\n",
    "plt.rcParams['axes.spines.right'] = False\n",
    "plt.rcParams['axes.spines.top'] = False\n",
    "plt.rcParams['savefig.format'] = 'pdf'\n",
    "plt.rcParams['lines.linewidth'] = 2.5\n",
    "\n",
    "tf.compat.v1.disable_v2_behavior()\n"
   ]
  },
  {
   "cell_type": "markdown",
   "metadata": {},
   "source": [
    "### Load data\n",
    "Here we use the white-wine dataset from the UCI database"
   ]
  },
  {
   "cell_type": "code",
   "execution_count": 2,
   "metadata": {
    "collapsed": true
   },
   "outputs": [],
   "source": [
    "url = \"https://archive.ics.uci.edu/ml/machine-learning-databases/wine-quality/winequality-red.csv\"\n",
    "\n"
   ]
  },
  {
   "cell_type": "markdown",
   "metadata": {},
   "source": [
    "### Standardize data"
   ]
  },
  {
   "cell_type": "code",
   "execution_count": 3,
   "metadata": {
    "collapsed": true
   },
   "outputs": [],
   "source": [
    "# ---- standardize data\n",
    "data = np.array(pd.read_csv(url, low_memory=False, sep=';'))\n",
    "labels_gt = data[:,-1]\n",
    "data = data[:, :-1]\n",
    "data = data - np.mean(data, axis=0)\n",
    "data = data / np.std(data, axis=0)\n",
    "\n",
    "# Fractionnement en ensembles d'entraînement (train) et de test (test)\n",
    "Xtrain, Xtest, ytrain,ytest = train_test_split(\n",
    "    data, labels_gt, test_size=0.05, random_state=42\n",
    ")\n",
    "\n",
    "# ---- we use the full dataset for training here, but you can make a train-val split\n",
    "Xgt= Xtrain.copy() #ground truth for archive\n",
    "Xval = Xtrain.copy()"
   ]
  },
  {
   "cell_type": "markdown",
   "metadata": {},
   "source": [
    "### Settings (MIVAE)"
   ]
  },
  {
   "cell_type": "code",
   "execution_count": 4,
   "metadata": {},
   "outputs": [],
   "source": [
    "N, D = data.shape\n",
    "n_latent = D - 1\n",
    "n_hidden = 128\n",
    "n_samples = 20\n",
    "max_iter = 100000\n",
    "batch_size = 16\n",
    "n_classes = 5"
   ]
  },
  {
   "cell_type": "markdown",
   "metadata": {},
   "source": [
    "### Settings (Regressor)"
   ]
  },
  {
   "cell_type": "code",
   "execution_count": 5,
   "metadata": {},
   "outputs": [],
   "source": [
    "n_outputs = 1\n",
    "n_features = D\n",
    "learning_rate = 2e-4\n",
    "n_epochs = 300\n",
    "n_hidden_units = 128"
   ]
  },
  {
   "cell_type": "markdown",
   "metadata": {},
   "source": [
    "### Introduce missing \n",
    "Here we denote\n",
    "- Xnan: data matrix with np.nan as the missing entries\n",
    "- Xz: data matrix with 0 as the missing entries\n",
    "- S: missing mask \n",
    "\n",
    "The missing process depends on the missing data itself:\n",
    "- in half the features, set the feature value to missing when it is higher than the feature mean"
   ]
  },
  {
   "cell_type": "code",
   "execution_count": 6,
   "metadata": {
    "collapsed": true
   },
   "outputs": [],
   "source": [
    "# ---- introduce missing process on trainin set\n",
    "Xnan = Xtrain.copy()\n",
    "Xz = Xtrain.copy()\n",
    "\n",
    "mean = np.mean(Xnan[:, :int(D / 2)], axis=0)\n",
    "ix_larger_than_mean = Xnan[:, :int(D / 2)] > mean\n",
    "\n",
    "Xnan[:, :int(D / 2)][ix_larger_than_mean] = np.nan\n",
    "Xz[:, :int(D / 2)][ix_larger_than_mean] = 0\n",
    "\n",
    "S = np.array(~np.isnan(Xnan), dtype=np.float32)\n",
    "\n",
    "# ---- introduce missing process on test set\n",
    "\n",
    "Xnan_test = Xtest.copy()\n",
    "Xz_test = Xtest.copy()\n",
    "\n",
    "mean = np.mean(Xnan_test[:, :int(D / 2)], axis=0)\n",
    "ix_larger_than_mean = Xnan_test[:, :int(D / 2)] > mean\n",
    "\n",
    "Xnan_test[:, :int(D / 2)][ix_larger_than_mean] = np.nan\n",
    "Xz_test[:, :int(D / 2)][ix_larger_than_mean] = 0\n",
    "\n",
    "S_test = np.array(~np.isnan(Xnan_test), dtype=np.float32)"
   ]
  },
  {
   "cell_type": "markdown",
   "metadata": {},
   "source": [
    "### Inputs\n",
    "Let's first define the inputs of the model\n",
    "- x_pl: data input\n",
    "- s_pl: mask input\n",
    "- n_pl: number of importance samples\n",
    "- X_pl: data input for the regressor\n",
    "- y_pl: labels input"
   ]
  },
  {
   "cell_type": "code",
   "execution_count": 7,
   "metadata": {},
   "outputs": [
    {
     "name": "stdout",
     "output_type": "stream",
     "text": [
      "Creating graph...\n"
     ]
    }
   ],
   "source": [
    "print(\"Creating graph...\")\n",
    "tf.reset_default_graph()\n",
    "# ---- input\n",
    "with tf.variable_scope('input'):\n",
    "    x_pl = tf.placeholder(tf.float32, [None, D], 'x_pl')\n",
    "    s_pl = tf.placeholder(tf.float32, [None, D], 's_pl')\n",
    "    n_pl = tf.placeholder(tf.int32, shape=(), name='n_pl')\n",
    "    \n",
    "    X = tf.compat.v1.placeholder(dtype=tf.float32, shape=[None, n_features], name=\"X\")\n",
    "    y = tf.compat.v1.placeholder(dtype=tf.float32, shape=[None, n_outputs], name=\"y\")"
   ]
  },
  {
   "cell_type": "markdown",
   "metadata": {},
   "source": [
    "the noise variance is learned as a shared parameter"
   ]
  },
  {
   "cell_type": "code",
   "execution_count": 8,
   "metadata": {},
   "outputs": [],
   "source": [
    "# ---- parameters\n",
    "with tf.variable_scope('data_process'):\n",
    "    logstd = tf.get_variable('logstd', shape=[])"
   ]
  },
  {
   "cell_type": "markdown",
   "metadata": {},
   "source": [
    "### Encoder\n",
    "The encoder / inference network consists of two hidden layers with 128 units and tanh activation"
   ]
  },
  {
   "cell_type": "code",
   "execution_count": 9,
   "metadata": {},
   "outputs": [],
   "source": [
    "x = keras.layers.Dense(units=n_hidden, activation=tf.nn.tanh, name='l_enc1')(x_pl)\n",
    "x = keras.layers.Dense(units=n_hidden, activation=tf.nn.tanh, name='l_enc2')(x)\n",
    "\n",
    "q_mu = keras.layers.Dense(units=n_latent, activation=None, name='q_mu')(x)\n",
    "\n",
    "q_logstd = keras.layers.Dense(units=n_latent, activation=lambda x: tf.clip_by_value(x, -10, 10),\n",
    "                           name='q_logstd')(x)"
   ]
  },
  {
   "cell_type": "markdown",
   "metadata": {},
   "source": [
    "### Variational distribution"
   ]
  },
  {
   "cell_type": "code",
   "execution_count": 10,
   "metadata": {
    "collapsed": true
   },
   "outputs": [],
   "source": [
    "q_z = tfp.distributions.Normal(loc=q_mu, scale=tf.exp(q_logstd))\n",
    "\n",
    "# ---- sample the latent value\n",
    "l_z = q_z.sample(n_pl)                    # shape [n_samples, batch_size, dl]\n",
    "l_z = tf.transpose(l_z, perm=[1, 0, 2])   # shape [batch_size, n_samples, dl]"
   ]
  },
  {
   "cell_type": "markdown",
   "metadata": {},
   "source": [
    "### Decoder for features"
   ]
  },
  {
   "cell_type": "code",
   "execution_count": 11,
   "metadata": {
    "collapsed": true
   },
   "outputs": [],
   "source": [
    "mu = keras.layers.Dense(units=D, activation=None, name='mu')(l_z)"
   ]
  },
  {
   "cell_type": "markdown",
   "metadata": {},
   "source": [
    "### Observation model / likelihood function"
   ]
  },
  {
   "cell_type": "code",
   "execution_count": 12,
   "metadata": {
    "collapsed": true
   },
   "outputs": [],
   "source": [
    "p_x_given_z = tfp.distributions.Normal(loc=mu, scale=tf.exp(logstd))"
   ]
  },
  {
   "cell_type": "markdown",
   "metadata": {},
   "source": [
    "### Parameters for Regressor"
   ]
  },
  {
   "cell_type": "code",
   "execution_count": 13,
   "metadata": {},
   "outputs": [],
   "source": [
    "# Weights and biases for the hidden layer\n",
    "\n",
    "W_hidden = tf.Variable(tf.random.truncated_normal([n_features, n_hidden_units], stddev=0.1), name=\"W_hidden\")\n",
    "b_hidden = tf.Variable(tf.zeros([n_hidden_units]), name=\"b_hidden\")\n",
    "\n",
    "# Hidden layer with ReLU activation function\n",
    "hidden_layer = tf.nn.relu(tf.matmul(X, W_hidden) + b_hidden)\n",
    "\n",
    "# Weights and bias for the output layer\n",
    "W_output = tf.Variable(tf.random.truncated_normal([n_hidden_units, n_outputs], stddev=0.1), name=\"W_output\")\n",
    "b_output = tf.Variable(tf.zeros([n_outputs]), name=\"b_output\")\n",
    "\n",
    "# Output layer (no activation function for regression)\n",
    "y_pred = tf.matmul(hidden_layer, W_output) + b_output\n",
    "\n",
    "# Loss function: Mean Squared Error (MSE)\n",
    "loss_MLP = tf.reduce_mean(tf.square(y_pred - y))"
   ]
  },
  {
   "cell_type": "markdown",
   "metadata": {},
   "source": [
    "### Missing model\n",
    "- first mix observed data and samples of missing data\n",
    "- feed through missing model\n",
    "- find likelihood of missing model parameters\n",
    "\n",
    "We have to expand the dimensions of x_pl and s_pl, since mu has size [batch, n_samples, D]"
   ]
  },
  {
   "cell_type": "code",
   "execution_count": 14,
   "metadata": {
    "collapsed": true
   },
   "outputs": [],
   "source": [
    "l_out_mixed = mu * tf.expand_dims(1 - s_pl, axis=1) + tf.expand_dims(x_pl * s_pl, axis=1)"
   ]
  },
  {
   "cell_type": "code",
   "execution_count": 15,
   "metadata": {
    "collapsed": true
   },
   "outputs": [],
   "source": [
    "W = tf.get_variable('W', shape=[1, 1, D])\n",
    "W = -tf.nn.softplus(W)\n",
    "b = tf.get_variable('b', shape=[1, 1, D])\n",
    "\n",
    "logits = W * (l_out_mixed - b)\n",
    "\n",
    "p_s_given_x = tfp.distributions.Bernoulli(logits=logits)"
   ]
  },
  {
   "cell_type": "markdown",
   "metadata": {},
   "source": [
    "### Evaluating likelihoods"
   ]
  },
  {
   "cell_type": "code",
   "execution_count": 16,
   "metadata": {},
   "outputs": [],
   "source": [
    "# ---- evaluate the observed data in p(x|z)\n",
    "log_p_x_given_z = tf.reduce_sum(tf.expand_dims(s_pl, axis=1) * \n",
    "                                p_x_given_z.log_prob(tf.expand_dims(x_pl, axis=1)), axis=-1)  # sum over d-dimension\n",
    "\n",
    "# --- evaluate the z-samples in q(z|x)\n",
    "q_z2 = tfp.distributions.Normal(loc=tf.expand_dims(q_z.loc, axis=1), scale=tf.expand_dims(q_z.scale, axis=1))\n",
    "log_q_z_given_x = tf.reduce_sum(q_z2.log_prob(l_z), axis=-1)\n",
    "\n",
    "# ---- evaluate the z-samples in the prior p(z)\n",
    "prior = tfp.distributions.Normal(loc=0.0, scale=1.0)\n",
    "log_p_z = tf.reduce_sum(prior.log_prob(l_z), axis=-1)\n",
    "\n",
    "# ---- evaluate the mask in p(s|x)\n",
    "log_p_s_given_x = tf.reduce_sum(p_s_given_x.log_prob(tf.expand_dims(s_pl, axis=1)), axis=-1)\n"
   ]
  },
  {
   "cell_type": "markdown",
   "metadata": {},
   "source": [
    "### Losses for the MIWAE and not-MIWAE respectively"
   ]
  },
  {
   "cell_type": "code",
   "execution_count": 17,
   "metadata": {
    "collapsed": true
   },
   "outputs": [],
   "source": [
    "lpxz = log_p_x_given_z\n",
    "lpz = log_p_z\n",
    "lqzx = log_q_z_given_x\n",
    "lpsx = log_p_s_given_x\n",
    "\n",
    "# ---- MIWAE\n",
    "# ---- importance weights\n",
    "l_w = lpxz + lpz - lqzx\n",
    "\n",
    "# ---- sum over samples\n",
    "log_sum_w = tf.reduce_logsumexp(l_w, axis=1)\n",
    "\n",
    "# ---- average over samples\n",
    "log_avg_weight = log_sum_w - tf.log(tf.cast(n_pl, tf.float32))\n",
    "\n",
    "# ---- average over minibatch to get the average llh\n",
    "MIWAE = tf.reduce_mean(log_avg_weight, axis=-1) \n",
    "\n",
    "\n",
    "# ---- not-MIWAE\n",
    "# ---- importance weights\n",
    "l_w = lpxz + lpsx + lpz - lqzx\n",
    "\n",
    "# ---- sum over samples\n",
    "log_sum_w = tf.reduce_logsumexp(l_w, axis=1)\n",
    "\n",
    "# ---- average over samples\n",
    "log_avg_weight = log_sum_w - tf.log(tf.cast(n_pl, tf.float32))\n",
    "\n",
    "# ---- average over minibatch to get the average llh\n",
    "notMIWAE = tf.reduce_mean(log_avg_weight, axis=-1)\n"
   ]
  },
  {
   "cell_type": "markdown",
   "metadata": {},
   "source": [
    "### Training stuff"
   ]
  },
  {
   "cell_type": "code",
   "execution_count": null,
   "metadata": {
    "collapsed": true
   },
   "outputs": [],
   "source": []
  },
  {
   "cell_type": "markdown",
   "metadata": {},
   "source": [
    "### Choose wether you want to train the MIWAE or the notMIWAE"
   ]
  },
  {
   "cell_type": "code",
   "execution_count": 18,
   "metadata": {
    "collapsed": true
   },
   "outputs": [
    {
     "name": "stdout",
     "output_type": "stream",
     "text": [
      "WARNING:tensorflow:From C:\\Users\\pipau\\AppData\\Local\\Temp\\ipykernel_12976\\1755795868.py:6: The name tf.train.AdamOptimizer is deprecated. Please use tf.compat.v1.train.AdamOptimizer instead.\n",
      "\n"
     ]
    }
   ],
   "source": [
    "# ---- training stuff\n",
    "config = tf.ConfigProto()\n",
    "config.gpu_options.allow_growth = True\n",
    "sess = tf.Session(config=config)\n",
    "global_step = tf.Variable(initial_value=0, trainable=False)\n",
    "optimizer = tf.train.AdamOptimizer()\n",
    "\n",
    "loss_VAE = -notMIWAE\n",
    "# loss_VAE = -MIWAE\n",
    "loss_global = loss_VAE + loss_MLP\n",
    "tvars = tf.trainable_variables()\n",
    "train_op = optimizer.minimize(loss_global, global_step=global_step, var_list=tvars) # Global objective\n",
    "\n",
    "optimizer_ = tf.train.AdamOptimizer(learning_rate=learning_rate).minimize(loss_global) #MLP\n",
    "sess.run(tf.global_variables_initializer())"
   ]
  },
  {
   "cell_type": "markdown",
   "metadata": {},
   "source": [
    "### Single imputation "
   ]
  },
  {
   "cell_type": "code",
   "execution_count": 19,
   "metadata": {},
   "outputs": [],
   "source": [
    "def imputationRMSE(sess, Xorg, Xnan, L):\n",
    "\n",
    "    N = len(Xorg)\n",
    "    \n",
    "    Xz = Xnan.copy()\n",
    "    Xz[np.isnan(Xnan)] = 0\n",
    "    S = np.array(~np.isnan(Xnan), dtype=np.float32)\n",
    "\n",
    "    def softmax(x):\n",
    "        e_x = np.exp(x - np.max(x, axis=1)[:, None])\n",
    "        return e_x / e_x.sum(axis=1)[:, None]\n",
    "\n",
    "    def imp(xz, s, L):\n",
    "        _mu, _log_p_x_given_z, _log_p_z, _log_q_z_given_x = sess.run(\n",
    "            [mu, log_p_x_given_z, log_p_z, log_q_z_given_x],\n",
    "            {x_pl: xz, s_pl: s, n_pl: L})\n",
    "\n",
    "        wl = softmax(_log_p_x_given_z + _log_p_z - _log_q_z_given_x)\n",
    "\n",
    "        xm = np.sum((_mu.T * wl.T).T, axis=1)\n",
    "        xmix = xz + xm * (1 - s)\n",
    "\n",
    "        return _mu, wl, xm, xmix\n",
    "\n",
    "    XM = np.zeros_like(Xorg)\n",
    "    XMIX = np.zeros_like(Xorg)\n",
    "\n",
    "    for i in range(N):\n",
    "\n",
    "        xz = Xz[i, :][None, :]\n",
    "        s = S[i, :][None, :]\n",
    "\n",
    "        _mu, wl, xm, xmix = imp(xz, s, L)\n",
    "\n",
    "        XM[i, :] = xm\n",
    "        XMIX[i, :]= xmix\n",
    "        if i % 100 == 0:\n",
    "            print('{0} / {1}'.format(i, N))\n",
    "    RMSE = 1\n",
    "\n",
    "    return RMSE, XM, XMIX\n",
    "\n",
    "\n",
    "def not_imputationRMSE(sess, Xorg, Xnan, L):\n",
    "    \"\"\"\n",
    "    Function to compute the RMSE of the imputation process and return imputed values.\n",
    "\n",
    "    Args:\n",
    "        sess: The TensorFlow session object used to evaluate the model.\n",
    "        Xorg: The original dataset with no missing values (used for calculating RMSE).\n",
    "        Xnan: The dataset with missing values to be imputed.\n",
    "        L: Latent variable or component for the model.\n",
    "\n",
    "    Returns:\n",
    "        RMSE: The root mean squared error between the original and imputed datasets.\n",
    "        XM: The imputed dataset.\n",
    "    \"\"\"\n",
    "    N = len(Xorg)  # Number of samples in the dataset\n",
    "    \n",
    "    # Make a copy of the dataset with missing values\n",
    "    Xz = Xnan.copy()\n",
    "    \n",
    "    # Replace NaN values with 0 in the copied dataset\n",
    "    Xz[np.isnan(Xnan)] = 0\n",
    "    \n",
    "    # Create a binary mask indicating where data is missing (1 if not missing, 0 if missing)\n",
    "    S = np.array(~np.isnan(Xnan), dtype=np.float32)\n",
    "    \n",
    "    # Softmax function to normalize weights into probabilities\n",
    "    def softmax(x):\n",
    "        e_x = np.exp(x - np.max(x, axis=1)[:, None])  # Numerical stability trick\n",
    "        return e_x / e_x.sum(axis=1)[:, None]  # Normalize by row sum to get probabilities\n",
    "\n",
    "    # Imputation function that computes the imputed values\n",
    "    def imp(xz, s, L):\n",
    "        \"\"\"\n",
    "        Performs imputation based on the model's probabilistic outputs.\n",
    "\n",
    "        Args:\n",
    "            xz: Input sample with missing values replaced by 0.\n",
    "            s: Binary mask indicating missing entries.\n",
    "            L: Latent variable (number of components in the model).\n",
    "\n",
    "        Returns:\n",
    "            _mu, wl, xm, xmix: Model's probabilistic outputs and the imputed values.\n",
    "        \"\"\"\n",
    "        # Get model's learned probabilities and mean values by running the session\n",
    "        _mu, _log_p_x_given_z, _log_p_z, _log_q_z_given_x, _log_p_s_given_x = sess.run(\n",
    "            [mu, log_p_x_given_z, log_p_z, log_q_z_given_x, log_p_s_given_x],\n",
    "            {x_pl: xz, s_pl: s, n_pl: L}\n",
    "        )\n",
    "\n",
    "        # Compute the softmax weights based on the log-probabilities\n",
    "        wl = softmax(_log_p_x_given_z + _log_p_s_given_x + _log_p_z - _log_q_z_given_x)\n",
    "\n",
    "        # Compute the weighted sum of the means (_mu) based on the weights (wl)\n",
    "        xm = np.sum((_mu.T * wl.T).T, axis=1)\n",
    "        \n",
    "        # Final imputed sample: add imputed values (xm) where data was missing\n",
    "        xmix = xz + xm * (1 - s)\n",
    "\n",
    "        return _mu, wl, xm, xmix\n",
    "\n",
    "    # Initialize the imputed dataset (XM) with the same shape as the original dataset\n",
    "    XM = np.zeros_like(Xorg)\n",
    "    XMIX = np.zeros_like(Xorg)\n",
    "    # Loop over all samples in the dataset\n",
    "    for i in range(N):\n",
    "        # Extract the current sample (row) from the dataset and its corresponding binary mask\n",
    "        xz = Xz[i, :][None, :]  # Current sample with missing values\n",
    "        s = S[i, :][None, :]    # Binary mask indicating missing values\n",
    "        \n",
    "        # Call the imputation function to get the imputed values\n",
    "        _mu, wl, xm, xmix = imp(xz, s, L)\n",
    "\n",
    "        # Store the imputed values (xm) into the result dataset (XM)\n",
    "        XM[i, :] = xm\n",
    "        XMIX[i, :]= xmix\n",
    "        # Print progress every 100 samples\n",
    "    RMSE = np.sqrt(np.sum((Xorg - XM) ** 2 * (1 - S)) / np.sum(1 - S)) \n",
    "\n",
    "    # Return the computed RMSE and the imputed dataset\n",
    "    return RMSE, XM, XMIX\n"
   ]
  },
  {
   "cell_type": "markdown",
   "metadata": {},
   "source": [
    "### Do the training"
   ]
  },
  {
   "cell_type": "code",
   "execution_count": 20,
   "metadata": {},
   "outputs": [
    {
     "name": "stderr",
     "output_type": "stream",
     "text": [
      "Epochs:   0%|          | 9/100000 [00:00<1:27:46, 18.99it/s] "
     ]
    },
    {
     "name": "stdout",
     "output_type": "stream",
     "text": [
      "0 updates, 0.42 s, 23.9330 MIWAE train loss , with 1.2183 RMSE and 33.1635 MLP loss\n",
      "Predicted: [ 0.09444977 -0.04253658  0.0782038  -0.00381698 -0.02840996], Actual: [7. 6. 5. 5. 5.]\n"
     ]
    },
    {
     "name": "stderr",
     "output_type": "stream",
     "text": [
      "Epochs:   2%|▏         | 2008/100000 [00:29<27:12, 60.04it/s]"
     ]
    },
    {
     "name": "stdout",
     "output_type": "stream",
     "text": [
      "2000 updates, 28.53 s, 17.2564 MIWAE train loss , with 0.9612 RMSE and 0.5366 MLP loss\n",
      "Predicted: [3.9654477 1.6661773 6.402083  4.5007644 6.067797 ], Actual: [7. 6. 5. 5. 5.]\n"
     ]
    },
    {
     "name": "stderr",
     "output_type": "stream",
     "text": [
      "Epochs:   4%|▍         | 4007/100000 [00:57<21:47, 73.42it/s]"
     ]
    },
    {
     "name": "stdout",
     "output_type": "stream",
     "text": [
      "4000 updates, 28.91 s, 15.5307 MIWAE train loss , with 1.5580 RMSE and 0.3042 MLP loss\n",
      "Predicted: [5.036821  2.826608  5.268067  4.6525493 5.7992887], Actual: [7. 6. 5. 5. 5.]\n"
     ]
    },
    {
     "name": "stderr",
     "output_type": "stream",
     "text": [
      "Epochs:   6%|▌         | 6007/100000 [01:24<20:37, 75.95it/s]"
     ]
    },
    {
     "name": "stdout",
     "output_type": "stream",
     "text": [
      "6000 updates, 26.27 s, 14.3795 MIWAE train loss , with 0.8412 RMSE and 0.4475 MLP loss\n",
      "Predicted: [5.6466384 5.2686434 5.0653954 4.8926206 5.4771757], Actual: [7. 6. 5. 5. 5.]\n"
     ]
    },
    {
     "name": "stderr",
     "output_type": "stream",
     "text": [
      "Epochs:   8%|▊         | 8011/100000 [01:50<20:09, 76.06it/s]"
     ]
    },
    {
     "name": "stdout",
     "output_type": "stream",
     "text": [
      "8000 updates, 26.25 s, 13.3811 MIWAE train loss , with 1.6317 RMSE and 0.5767 MLP loss\n",
      "Predicted: [5.9683275 6.230879  4.9943104 5.141854  5.224989 ], Actual: [7. 6. 5. 5. 5.]\n"
     ]
    },
    {
     "name": "stderr",
     "output_type": "stream",
     "text": [
      "Epochs:  10%|█         | 10012/100000 [02:16<19:26, 77.14it/s]"
     ]
    },
    {
     "name": "stdout",
     "output_type": "stream",
     "text": [
      "10000 updates, 26.09 s, 12.5517 MIWAE train loss , with 0.8525 RMSE and 0.3304 MLP loss\n",
      "Predicted: [6.091729  6.327625  4.8052316 5.284861  5.115516 ], Actual: [7. 6. 5. 5. 5.]\n"
     ]
    },
    {
     "name": "stderr",
     "output_type": "stream",
     "text": [
      "Epochs:  12%|█▏        | 12012/100000 [02:42<19:11, 76.40it/s]"
     ]
    },
    {
     "name": "stdout",
     "output_type": "stream",
     "text": [
      "12000 updates, 25.97 s, 11.9343 MIWAE train loss , with 1.2015 RMSE and 0.4623 MLP loss\n",
      "Predicted: [6.094693  6.2308083 4.9282327 5.2936416 5.117978 ], Actual: [7. 6. 5. 5. 5.]\n"
     ]
    },
    {
     "name": "stderr",
     "output_type": "stream",
     "text": [
      "Epochs:  14%|█▍        | 14012/100000 [03:08<18:52, 75.91it/s]"
     ]
    },
    {
     "name": "stdout",
     "output_type": "stream",
     "text": [
      "14000 updates, 25.99 s, 11.4995 MIWAE train loss , with 0.7639 RMSE and 0.1712 MLP loss\n",
      "Predicted: [6.1247525 6.2787223 4.9301515 5.204816  5.0765624], Actual: [7. 6. 5. 5. 5.]\n"
     ]
    },
    {
     "name": "stderr",
     "output_type": "stream",
     "text": [
      "Epochs:  16%|█▌        | 16012/100000 [03:34<20:11, 69.33it/s]"
     ]
    },
    {
     "name": "stdout",
     "output_type": "stream",
     "text": [
      "16000 updates, 26.05 s, 11.3069 MIWAE train loss , with 1.4615 RMSE and 0.3270 MLP loss\n",
      "Predicted: [6.2068443 6.369111  4.876489  5.2186985 5.1241403], Actual: [7. 6. 5. 5. 5.]\n"
     ]
    },
    {
     "name": "stderr",
     "output_type": "stream",
     "text": [
      "Epochs:  18%|█▊        | 18013/100000 [04:00<17:34, 77.76it/s]"
     ]
    },
    {
     "name": "stdout",
     "output_type": "stream",
     "text": [
      "18000 updates, 26.11 s, 11.1526 MIWAE train loss , with 1.9212 RMSE and 0.5998 MLP loss\n",
      "Predicted: [6.1953807 6.3146205 4.685361  5.2489276 5.0404334], Actual: [7. 6. 5. 5. 5.]\n"
     ]
    },
    {
     "name": "stderr",
     "output_type": "stream",
     "text": [
      "Epochs:  20%|██        | 20014/100000 [04:26<17:11, 77.56it/s]"
     ]
    },
    {
     "name": "stdout",
     "output_type": "stream",
     "text": [
      "20000 updates, 26.18 s, 11.0540 MIWAE train loss , with 1.8387 RMSE and 0.1985 MLP loss\n",
      "Predicted: [6.158644  6.3058586 4.9159255 5.1335673 5.098904 ], Actual: [7. 6. 5. 5. 5.]\n"
     ]
    },
    {
     "name": "stderr",
     "output_type": "stream",
     "text": [
      "Epochs:  22%|██▏       | 22005/100000 [04:53<23:06, 56.27it/s]"
     ]
    },
    {
     "name": "stdout",
     "output_type": "stream",
     "text": [
      "22000 updates, 26.38 s, 10.9762 MIWAE train loss , with 0.8148 RMSE and 0.2825 MLP loss\n",
      "Predicted: [6.2385044 6.4715767 4.8917866 5.0586605 5.1019793], Actual: [7. 6. 5. 5. 5.]\n"
     ]
    },
    {
     "name": "stderr",
     "output_type": "stream",
     "text": [
      "Epochs:  24%|██▍       | 24016/100000 [05:20<16:23, 77.29it/s]"
     ]
    },
    {
     "name": "stdout",
     "output_type": "stream",
     "text": [
      "24000 updates, 27.15 s, 10.9167 MIWAE train loss , with 1.6275 RMSE and 0.3366 MLP loss\n",
      "Predicted: [6.2552814 6.4657793 4.7680874 5.0877657 5.1338215], Actual: [7. 6. 5. 5. 5.]\n"
     ]
    },
    {
     "name": "stderr",
     "output_type": "stream",
     "text": [
      "Epochs:  26%|██▌       | 26014/100000 [05:47<16:06, 76.53it/s]"
     ]
    },
    {
     "name": "stdout",
     "output_type": "stream",
     "text": [
      "26000 updates, 26.94 s, 10.9228 MIWAE train loss , with 2.3185 RMSE and 0.2163 MLP loss\n",
      "Predicted: [6.2085485 6.3316326 4.7635345 5.0944796 5.0878944], Actual: [7. 6. 5. 5. 5.]\n"
     ]
    },
    {
     "name": "stderr",
     "output_type": "stream",
     "text": [
      "Epochs:  28%|██▊       | 28007/100000 [06:16<15:18, 78.38it/s]"
     ]
    },
    {
     "name": "stdout",
     "output_type": "stream",
     "text": [
      "28000 updates, 29.18 s, 10.8618 MIWAE train loss , with 0.6725 RMSE and 0.0936 MLP loss\n",
      "Predicted: [6.229361  6.324962  4.857916  4.94828   5.1236672], Actual: [7. 6. 5. 5. 5.]\n"
     ]
    },
    {
     "name": "stderr",
     "output_type": "stream",
     "text": [
      "Epochs:  30%|███       | 30011/100000 [06:43<15:29, 75.27it/s]"
     ]
    },
    {
     "name": "stdout",
     "output_type": "stream",
     "text": [
      "30000 updates, 27.11 s, 10.8573 MIWAE train loss , with 0.7310 RMSE and 0.1751 MLP loss\n",
      "Predicted: [6.306567  6.404135  4.9120727 4.9267063 5.1970563], Actual: [7. 6. 5. 5. 5.]\n"
     ]
    },
    {
     "name": "stderr",
     "output_type": "stream",
     "text": [
      "Epochs:  32%|███▏      | 32013/100000 [07:10<14:56, 75.87it/s]"
     ]
    },
    {
     "name": "stdout",
     "output_type": "stream",
     "text": [
      "32000 updates, 27.30 s, 10.8248 MIWAE train loss , with 0.9308 RMSE and 0.2944 MLP loss\n",
      "Predicted: [6.3106685 6.3757997 4.706386  4.9657764 5.148827 ], Actual: [7. 6. 5. 5. 5.]\n"
     ]
    },
    {
     "name": "stderr",
     "output_type": "stream",
     "text": [
      "Epochs:  34%|███▍      | 34010/100000 [07:40<14:54, 73.78it/s]"
     ]
    },
    {
     "name": "stdout",
     "output_type": "stream",
     "text": [
      "34000 updates, 29.17 s, 10.8148 MIWAE train loss , with 1.1112 RMSE and 0.3002 MLP loss\n",
      "Predicted: [6.2606564 6.2769003 4.9255285 4.9180775 5.1764555], Actual: [7. 6. 5. 5. 5.]\n"
     ]
    },
    {
     "name": "stderr",
     "output_type": "stream",
     "text": [
      "Epochs:  36%|███▌      | 36009/100000 [08:08<15:18, 69.64it/s]"
     ]
    },
    {
     "name": "stdout",
     "output_type": "stream",
     "text": [
      "36000 updates, 28.35 s, 10.7868 MIWAE train loss , with 0.7918 RMSE and 0.0983 MLP loss\n",
      "Predicted: [6.3068357 6.398028  4.8833003 4.835447  5.166269 ], Actual: [7. 6. 5. 5. 5.]\n"
     ]
    },
    {
     "name": "stderr",
     "output_type": "stream",
     "text": [
      "Epochs:  38%|███▊      | 38012/100000 [08:36<15:05, 68.47it/s]"
     ]
    },
    {
     "name": "stdout",
     "output_type": "stream",
     "text": [
      "38000 updates, 27.67 s, 10.7791 MIWAE train loss , with 0.8214 RMSE and 0.6472 MLP loss\n",
      "Predicted: [6.349539  6.475897  4.835536  4.8486495 5.2272673], Actual: [7. 6. 5. 5. 5.]\n"
     ]
    },
    {
     "name": "stderr",
     "output_type": "stream",
     "text": [
      "Epochs:  40%|████      | 40010/100000 [09:04<15:09, 65.99it/s]"
     ]
    },
    {
     "name": "stdout",
     "output_type": "stream",
     "text": [
      "40000 updates, 28.69 s, 10.7583 MIWAE train loss , with 0.6174 RMSE and 0.2836 MLP loss\n",
      "Predicted: [6.307618  6.3916755 4.6937246 4.8943663 5.1224685], Actual: [7. 6. 5. 5. 5.]\n"
     ]
    },
    {
     "name": "stderr",
     "output_type": "stream",
     "text": [
      "Epochs:  42%|████▏     | 42016/100000 [09:32<12:53, 74.93it/s]"
     ]
    },
    {
     "name": "stdout",
     "output_type": "stream",
     "text": [
      "42000 updates, 27.47 s, 10.7411 MIWAE train loss , with 1.3302 RMSE and 0.4815 MLP loss\n",
      "Predicted: [6.3097835 6.4085627 4.909931  4.745928  5.181507 ], Actual: [7. 6. 5. 5. 5.]\n"
     ]
    },
    {
     "name": "stderr",
     "output_type": "stream",
     "text": [
      "Epochs:  44%|████▍     | 44009/100000 [10:00<14:24, 64.74it/s]"
     ]
    },
    {
     "name": "stdout",
     "output_type": "stream",
     "text": [
      "44000 updates, 28.30 s, 10.7240 MIWAE train loss , with 1.2485 RMSE and 0.1877 MLP loss\n",
      "Predicted: [6.388884  6.5845504 4.94038   4.7354426 5.1955733], Actual: [7. 6. 5. 5. 5.]\n"
     ]
    },
    {
     "name": "stderr",
     "output_type": "stream",
     "text": [
      "Epochs:  46%|████▌     | 46009/100000 [10:27<12:00, 74.97it/s]"
     ]
    },
    {
     "name": "stdout",
     "output_type": "stream",
     "text": [
      "46000 updates, 26.98 s, 10.6899 MIWAE train loss , with 0.6643 RMSE and 0.2523 MLP loss\n",
      "Predicted: [6.382003  6.5878186 4.7582393 4.745445  5.2009416], Actual: [7. 6. 5. 5. 5.]\n"
     ]
    },
    {
     "name": "stderr",
     "output_type": "stream",
     "text": [
      "Epochs:  48%|████▊     | 48010/100000 [10:53<11:29, 75.41it/s]"
     ]
    },
    {
     "name": "stdout",
     "output_type": "stream",
     "text": [
      "48000 updates, 25.93 s, 10.6736 MIWAE train loss , with 1.3220 RMSE and 0.1428 MLP loss\n",
      "Predicted: [6.333285  6.5714025 4.8953424 4.7394533 5.183624 ], Actual: [7. 6. 5. 5. 5.]\n"
     ]
    },
    {
     "name": "stderr",
     "output_type": "stream",
     "text": [
      "Epochs:  50%|█████     | 50010/100000 [11:19<10:37, 78.36it/s]"
     ]
    },
    {
     "name": "stdout",
     "output_type": "stream",
     "text": [
      "50000 updates, 26.43 s, 10.6716 MIWAE train loss , with 1.2193 RMSE and 0.2243 MLP loss\n",
      "Predicted: [6.3719573 6.761465  4.9025493 4.660355  5.159129 ], Actual: [7. 6. 5. 5. 5.]\n"
     ]
    },
    {
     "name": "stderr",
     "output_type": "stream",
     "text": [
      "Epochs:  52%|█████▏    | 52009/100000 [11:47<10:59, 72.80it/s]"
     ]
    },
    {
     "name": "stdout",
     "output_type": "stream",
     "text": [
      "52000 updates, 27.12 s, 10.6613 MIWAE train loss , with 0.8758 RMSE and 0.2207 MLP loss\n",
      "Predicted: [6.4454145 6.9038186 4.9079003 4.6675086 5.2240553], Actual: [7. 6. 5. 5. 5.]\n"
     ]
    },
    {
     "name": "stderr",
     "output_type": "stream",
     "text": [
      "Epochs:  54%|█████▍    | 54008/100000 [12:14<11:24, 67.23it/s]"
     ]
    },
    {
     "name": "stdout",
     "output_type": "stream",
     "text": [
      "54000 updates, 27.18 s, 10.6573 MIWAE train loss , with 0.8913 RMSE and 0.1703 MLP loss\n",
      "Predicted: [6.4605265 6.944747  4.7358866 4.726265  5.1630583], Actual: [7. 6. 5. 5. 5.]\n"
     ]
    },
    {
     "name": "stderr",
     "output_type": "stream",
     "text": [
      "Epochs:  56%|█████▌    | 56010/100000 [12:42<11:05, 66.10it/s]"
     ]
    },
    {
     "name": "stdout",
     "output_type": "stream",
     "text": [
      "56000 updates, 28.47 s, 10.6408 MIWAE train loss , with 0.7862 RMSE and 0.2579 MLP loss\n",
      "Predicted: [6.429158  6.9421406 4.995526  4.6562176 5.192148 ], Actual: [7. 6. 5. 5. 5.]\n"
     ]
    },
    {
     "name": "stderr",
     "output_type": "stream",
     "text": [
      "Epochs:  58%|█████▊    | 58013/100000 [13:12<09:05, 76.94it/s]"
     ]
    },
    {
     "name": "stdout",
     "output_type": "stream",
     "text": [
      "58000 updates, 29.70 s, 10.6488 MIWAE train loss , with 0.6461 RMSE and 0.1742 MLP loss\n",
      "Predicted: [6.498787  7.143197  4.9695625 4.6087446 5.1894064], Actual: [7. 6. 5. 5. 5.]\n"
     ]
    },
    {
     "name": "stderr",
     "output_type": "stream",
     "text": [
      "Epochs:  60%|██████    | 60010/100000 [13:39<08:40, 76.77it/s]"
     ]
    },
    {
     "name": "stdout",
     "output_type": "stream",
     "text": [
      "60000 updates, 27.27 s, 10.6370 MIWAE train loss , with 1.3909 RMSE and 0.1549 MLP loss\n",
      "Predicted: [6.498714  7.1820235 4.8569384 4.6436133 5.2390103], Actual: [7. 6. 5. 5. 5.]\n"
     ]
    },
    {
     "name": "stderr",
     "output_type": "stream",
     "text": [
      "Epochs:  62%|██████▏   | 62014/100000 [14:06<08:20, 75.87it/s]"
     ]
    },
    {
     "name": "stdout",
     "output_type": "stream",
     "text": [
      "62000 updates, 26.31 s, 10.6106 MIWAE train loss , with 1.0110 RMSE and 0.2326 MLP loss\n",
      "Predicted: [6.4566774 7.1027956 4.815694  4.677253  5.16164  ], Actual: [7. 6. 5. 5. 5.]\n"
     ]
    },
    {
     "name": "stderr",
     "output_type": "stream",
     "text": [
      "Epochs:  64%|██████▍   | 64011/100000 [14:31<07:32, 79.55it/s]"
     ]
    },
    {
     "name": "stdout",
     "output_type": "stream",
     "text": [
      "64000 updates, 25.77 s, 10.6081 MIWAE train loss , with 0.9681 RMSE and 0.3237 MLP loss\n",
      "Predicted: [6.4903927 7.1878433 4.9668775 4.5481296 5.1964254], Actual: [7. 6. 5. 5. 5.]\n"
     ]
    },
    {
     "name": "stderr",
     "output_type": "stream",
     "text": [
      "Epochs:  66%|██████▌   | 66010/100000 [14:59<07:13, 78.45it/s]"
     ]
    },
    {
     "name": "stdout",
     "output_type": "stream",
     "text": [
      "66000 updates, 27.69 s, 10.5964 MIWAE train loss , with 1.1283 RMSE and 0.1424 MLP loss\n",
      "Predicted: [6.5410347 7.2977767 5.028463  4.547179  5.2449245], Actual: [7. 6. 5. 5. 5.]\n"
     ]
    },
    {
     "name": "stderr",
     "output_type": "stream",
     "text": [
      "Epochs:  68%|██████▊   | 68013/100000 [15:26<06:52, 77.59it/s]"
     ]
    },
    {
     "name": "stdout",
     "output_type": "stream",
     "text": [
      "68000 updates, 26.97 s, 10.6044 MIWAE train loss , with 1.6816 RMSE and 0.3799 MLP loss\n",
      "Predicted: [6.5212784 7.277078  4.824828  4.566891  5.2174854], Actual: [7. 6. 5. 5. 5.]\n"
     ]
    },
    {
     "name": "stderr",
     "output_type": "stream",
     "text": [
      "Epochs:  70%|███████   | 70010/100000 [15:54<07:52, 63.49it/s]"
     ]
    },
    {
     "name": "stdout",
     "output_type": "stream",
     "text": [
      "70000 updates, 28.52 s, 10.5911 MIWAE train loss , with 0.9134 RMSE and 0.2837 MLP loss\n",
      "Predicted: [6.4813356 7.2136583 5.0302653 4.5543475 5.2263074], Actual: [7. 6. 5. 5. 5.]\n"
     ]
    },
    {
     "name": "stderr",
     "output_type": "stream",
     "text": [
      "Epochs:  72%|███████▏  | 72009/100000 [16:22<06:53, 67.63it/s]"
     ]
    },
    {
     "name": "stdout",
     "output_type": "stream",
     "text": [
      "72000 updates, 27.94 s, 10.5669 MIWAE train loss , with 0.9302 RMSE and 0.2892 MLP loss\n",
      "Predicted: [6.505592  7.2970195 5.0093665 4.513792  5.199245 ], Actual: [7. 6. 5. 5. 5.]\n"
     ]
    },
    {
     "name": "stderr",
     "output_type": "stream",
     "text": [
      "Epochs:  74%|███████▍  | 74012/100000 [16:50<05:31, 78.31it/s]"
     ]
    },
    {
     "name": "stdout",
     "output_type": "stream",
     "text": [
      "74000 updates, 27.98 s, 10.5661 MIWAE train loss , with 0.7858 RMSE and 0.1797 MLP loss\n",
      "Predicted: [6.5219736 7.3719435 4.945138  4.5132194 5.2691026], Actual: [7. 6. 5. 5. 5.]\n"
     ]
    },
    {
     "name": "stderr",
     "output_type": "stream",
     "text": [
      "Epochs:  76%|███████▌  | 76009/100000 [17:17<05:10, 77.24it/s]"
     ]
    },
    {
     "name": "stdout",
     "output_type": "stream",
     "text": [
      "76000 updates, 26.20 s, 10.5591 MIWAE train loss , with 0.6744 RMSE and 0.2117 MLP loss\n",
      "Predicted: [6.4769173 7.2841244 4.798424  4.552093  5.1725545], Actual: [7. 6. 5. 5. 5.]\n"
     ]
    },
    {
     "name": "stderr",
     "output_type": "stream",
     "text": [
      "Epochs:  78%|███████▊  | 78015/100000 [17:43<04:56, 74.26it/s]"
     ]
    },
    {
     "name": "stdout",
     "output_type": "stream",
     "text": [
      "78000 updates, 26.02 s, 10.5489 MIWAE train loss , with 2.0714 RMSE and 0.7206 MLP loss\n",
      "Predicted: [6.470574  7.294607  5.0446777 4.4541097 5.2107487], Actual: [7. 6. 5. 5. 5.]\n"
     ]
    },
    {
     "name": "stderr",
     "output_type": "stream",
     "text": [
      "Epochs:  80%|████████  | 80006/100000 [18:10<04:35, 72.64it/s]"
     ]
    },
    {
     "name": "stdout",
     "output_type": "stream",
     "text": [
      "80000 updates, 26.99 s, 10.5656 MIWAE train loss , with 0.9941 RMSE and 0.2285 MLP loss\n",
      "Predicted: [6.5299544 7.4506135 5.058624  4.434484  5.237394 ], Actual: [7. 6. 5. 5. 5.]\n"
     ]
    },
    {
     "name": "stderr",
     "output_type": "stream",
     "text": [
      "Epochs:  82%|████████▏ | 82007/100000 [18:37<04:28, 66.99it/s]"
     ]
    },
    {
     "name": "stdout",
     "output_type": "stream",
     "text": [
      "82000 updates, 27.45 s, 10.5708 MIWAE train loss , with 0.9105 RMSE and 0.1683 MLP loss\n",
      "Predicted: [6.502457  7.4148135 4.893589  4.4468427 5.2482295], Actual: [7. 6. 5. 5. 5.]\n"
     ]
    },
    {
     "name": "stderr",
     "output_type": "stream",
     "text": [
      "Epochs:  84%|████████▍ | 84010/100000 [19:05<03:54, 68.15it/s]"
     ]
    },
    {
     "name": "stdout",
     "output_type": "stream",
     "text": [
      "84000 updates, 28.13 s, 10.5417 MIWAE train loss , with 1.0129 RMSE and 0.1981 MLP loss\n",
      "Predicted: [6.4253516 7.294553  4.96607   4.467465  5.19983  ], Actual: [7. 6. 5. 5. 5.]\n"
     ]
    },
    {
     "name": "stderr",
     "output_type": "stream",
     "text": [
      "Epochs:  86%|████████▌ | 86010/100000 [19:34<03:38, 63.91it/s]"
     ]
    },
    {
     "name": "stdout",
     "output_type": "stream",
     "text": [
      "86000 updates, 28.58 s, 10.5358 MIWAE train loss , with 1.5682 RMSE and 0.2164 MLP loss\n",
      "Predicted: [6.4597077 7.3756833 5.0299287 4.375012  5.176706 ], Actual: [7. 6. 5. 5. 5.]\n"
     ]
    },
    {
     "name": "stderr",
     "output_type": "stream",
     "text": [
      "Epochs:  88%|████████▊ | 88012/100000 [20:02<02:30, 79.39it/s]"
     ]
    },
    {
     "name": "stdout",
     "output_type": "stream",
     "text": [
      "88000 updates, 28.52 s, 10.5425 MIWAE train loss , with 0.8719 RMSE and 0.1416 MLP loss\n",
      "Predicted: [6.489958  7.464757  5.0597696 4.3742275 5.2545204], Actual: [7. 6. 5. 5. 5.]\n"
     ]
    },
    {
     "name": "stderr",
     "output_type": "stream",
     "text": [
      "Epochs:  90%|█████████ | 90010/100000 [20:29<02:33, 64.90it/s]"
     ]
    },
    {
     "name": "stdout",
     "output_type": "stream",
     "text": [
      "90000 updates, 27.16 s, 10.5442 MIWAE train loss , with 1.7750 RMSE and 0.0881 MLP loss\n",
      "Predicted: [6.4745812 7.4100738 4.8460093 4.4264894 5.1833234], Actual: [7. 6. 5. 5. 5.]\n"
     ]
    },
    {
     "name": "stderr",
     "output_type": "stream",
     "text": [
      "Epochs:  92%|█████████▏| 92009/100000 [20:58<01:44, 76.58it/s]"
     ]
    },
    {
     "name": "stdout",
     "output_type": "stream",
     "text": [
      "92000 updates, 28.37 s, 10.5597 MIWAE train loss , with 0.9258 RMSE and 0.3797 MLP loss\n",
      "Predicted: [6.4284425 7.30394   5.1022363 4.3929634 5.1944823], Actual: [7. 6. 5. 5. 5.]\n"
     ]
    },
    {
     "name": "stderr",
     "output_type": "stream",
     "text": [
      "Epochs:  94%|█████████▍| 94009/100000 [21:25<01:26, 69.02it/s]"
     ]
    },
    {
     "name": "stdout",
     "output_type": "stream",
     "text": [
      "94000 updates, 27.52 s, 10.5227 MIWAE train loss , with 0.9486 RMSE and 0.2385 MLP loss\n",
      "Predicted: [6.4815845 7.454955  5.032355  4.3625035 5.1702614], Actual: [7. 6. 5. 5. 5.]\n"
     ]
    },
    {
     "name": "stderr",
     "output_type": "stream",
     "text": [
      "Epochs:  96%|█████████▌| 96012/100000 [21:54<00:56, 70.93it/s]"
     ]
    },
    {
     "name": "stdout",
     "output_type": "stream",
     "text": [
      "96000 updates, 28.97 s, 10.4826 MIWAE train loss , with 0.8878 RMSE and 0.0952 MLP loss\n",
      "Predicted: [6.455562  7.4800034 4.951222  4.352338  5.2211323], Actual: [7. 6. 5. 5. 5.]\n"
     ]
    },
    {
     "name": "stderr",
     "output_type": "stream",
     "text": [
      "Epochs:  98%|█████████▊| 98013/100000 [22:24<00:25, 78.13it/s]"
     ]
    },
    {
     "name": "stdout",
     "output_type": "stream",
     "text": [
      "98000 updates, 29.46 s, 10.5043 MIWAE train loss , with 1.4707 RMSE and 0.1210 MLP loss\n",
      "Predicted: [6.4065127 7.351228  4.850744  4.394453  5.129599 ], Actual: [7. 6. 5. 5. 5.]\n"
     ]
    },
    {
     "name": "stderr",
     "output_type": "stream",
     "text": [
      "Epochs: 100%|██████████| 100000/100000 [22:51<00:00, 72.91it/s]\n"
     ]
    }
   ],
   "source": [
    "batch_pointer = 0\n",
    "\n",
    "start = time.time()\n",
    "best = float(\"inf\")\n",
    "final_losses=np.empty(2)\n",
    "for epoch in tqdm(range(max_iter), desc=f\"Epochs\"):\n",
    "    # Train MIWAE\n",
    "    N = len(Xz)\n",
    "    x_train = Xtrain[batch_pointer: batch_pointer + batch_size, :]\n",
    "    x_batch = Xz[batch_pointer: batch_pointer + batch_size, :]\n",
    "    s_batch = S[batch_pointer: batch_pointer + batch_size, :]\n",
    "    x_nan = Xnan[batch_pointer: batch_pointer + batch_size, :]\n",
    "    y_batch = ytrain[batch_pointer: batch_pointer + batch_size,].reshape(-1, 1)\n",
    "    x_nan = Xnan[batch_pointer: batch_pointer + batch_size, :]\n",
    "    rmse, imputations, imputed_matrix = not_imputationRMSE(sess, x_train, x_nan, 1000) #impute and replace \n",
    "\n",
    "    X_imp=imputed_matrix\n",
    "    X_batch = X_imp\n",
    "    n_samples = X_batch.shape[0]\n",
    "    sess.run(optimizer_, feed_dict={x_pl: x_batch, s_pl: s_batch, n_pl: n_samples, y:y_batch, X:X_batch})\n",
    "    batch_pointer += batch_size    \n",
    "\n",
    "\n",
    "    if batch_pointer > N - batch_size:\n",
    "        batch_pointer = 0\n",
    "        p = np.random.permutation(N)\n",
    "        Xz = Xz[p, :]\n",
    "        S = S[p, :]\n",
    "    \n",
    "    if epoch % 2000 == 0:\n",
    "        took = time.time() - start\n",
    "        start = time.time()\n",
    "        \n",
    "        # --- change the following batch if you want a true validation set\n",
    "        x_batch = Xz   \n",
    "        s_batch = S\n",
    "        \n",
    "        final_miwae_loss,final_MLP_loss, _step = sess.run([loss_VAE, loss_MLP,global_step], {x_pl: x_batch, s_pl: s_batch, n_pl: n_samples, y:y_batch, X:X_batch})\n",
    "\n",
    "        print(\"{0} updates, {1:.2f} s, {2:.4f} MIWAE train loss , with {3:.4f} RMSE and {4:.4f} MLP loss\".format(epoch, took, final_miwae_loss, rmse, final_MLP_loss ))\n",
    "\n",
    "    if epoch % 2000 == 0:\n",
    "        predictions = sess.run(y_pred, feed_dict={X: Xtrain})\n",
    "        predicted_grades = predictions.flatten()  # Flatten to 1D for easy comparison\n",
    "        ground_truth_grades = ytrain.flatten()  # Flatten ground truth as well\n",
    "        print(f\"Predicted: {predicted_grades[10:15]}, Actual: {ground_truth_grades[10:15]}\")"
   ]
  },
  {
   "cell_type": "markdown",
   "metadata": {},
   "source": [
    "### Test time "
   ]
  },
  {
   "cell_type": "code",
   "execution_count": 21,
   "metadata": {},
   "outputs": [],
   "source": [
    "final_losses=[(sess.run(loss_VAE, feed_dict={x_pl: x_batch, s_pl: s_batch,n_pl: Xtrain.shape[0], X: Xtrain, y: ytrain.reshape(-1, 1)})),(sess.run(loss_MLP, feed_dict={x_pl: x_batch, s_pl: s_batch,n_pl: Xtrain.shape[0],X: Xtest ,y: ytest.reshape(-1, 1)}))]"
   ]
  },
  {
   "cell_type": "code",
   "execution_count": 22,
   "metadata": {},
   "outputs": [
    {
     "name": "stdout",
     "output_type": "stream",
     "text": [
      "MLP test loss = 0.8149539232254028\n"
     ]
    }
   ],
   "source": [
    "print(f\"MLP test loss = {final_losses[1]}\")\n"
   ]
  },
  {
   "cell_type": "markdown",
   "metadata": {},
   "source": [
    "### Calculate the single imputation RMSE using 10k importance samples\n",
    "If you used the MIWAE loss use the imputationRMSE \n",
    "\n",
    "If you used the notMIWAE loss use the not_imputationRMSE"
   ]
  },
  {
   "cell_type": "code",
   "execution_count": 23,
   "metadata": {},
   "outputs": [
    {
     "name": "stdout",
     "output_type": "stream",
     "text": [
      "imputation train RMSE:  1.1730598666881757\n",
      "imputation test RMSE:  0.9004458176947571\n"
     ]
    }
   ],
   "source": [
    "# # ---- S has been permuted during training, so just reinstantiate it\n",
    "S = np.array(~np.isnan(Xnan), dtype=np.float32)\n",
    "rmse, imputations, imputed_matrix = not_imputationRMSE(sess, Xtrain, Xnan, 1000)\n",
    "print(\"imputation train RMSE: \", rmse)\n",
    "rmse, imputations, imputed_matrix = not_imputationRMSE(sess, Xtest, Xnan_test, 1000)\n",
    "# rmse, imputations = imputationRMSE(sess, Xtrain, Xnan, 10000)\n",
    "\n",
    "print(\"imputation test RMSE: \", rmse)"
   ]
  },
  {
   "cell_type": "markdown",
   "metadata": {},
   "source": [
    "### Compare to missForest and MICE"
   ]
  },
  {
   "cell_type": "code",
   "execution_count": 24,
   "metadata": {
    "collapsed": true
   },
   "outputs": [],
   "source": [
    "from sklearn.experimental import enable_iterative_imputer\n",
    "from sklearn.impute import IterativeImputer, SimpleImputer\n",
    "from sklearn.ensemble import RandomForestRegressor"
   ]
  },
  {
   "cell_type": "code",
   "execution_count": 25,
   "metadata": {},
   "outputs": [],
   "source": [
    "imp = SimpleImputer(missing_values=np.nan, strategy='mean')\n",
    "imp.fit(Xnan)\n",
    "Xrec = imp.transform(Xnan)\n",
    "rmse_mean = (np.sqrt(np.sum((Xgt - Xrec) ** 2 * (1 - S)) / np.sum(1 - S)))"
   ]
  },
  {
   "cell_type": "code",
   "execution_count": 26,
   "metadata": {},
   "outputs": [
    {
     "name": "stdout",
     "output_type": "stream",
     "text": [
      "MEAN imputation RMSE:  1.841474535896206\n"
     ]
    }
   ],
   "source": [
    "print(\"MEAN imputation RMSE: \", rmse_mean)"
   ]
  },
  {
   "cell_type": "code",
   "execution_count": 27,
   "metadata": {},
   "outputs": [
    {
     "name": "stderr",
     "output_type": "stream",
     "text": [
      "C:\\Users\\pipau\\AppData\\Local\\Packages\\PythonSoftwareFoundation.Python.3.12_qbz5n2kfra8p0\\LocalCache\\local-packages\\Python312\\site-packages\\sklearn\\impute\\_iterative.py:825: ConvergenceWarning: [IterativeImputer] Early stopping criterion not reached.\n",
      "  warnings.warn(\n"
     ]
    }
   ],
   "source": [
    "estimator = RandomForestRegressor(n_estimators=100)\n",
    "imp = IterativeImputer(estimator=estimator)\n",
    "imp.fit(Xnan)\n",
    "Xrec = imp.transform(Xnan)\n",
    "rmse_mf = np.sqrt(np.sum((Xgt - Xrec) ** 2 * (1 - S)) / np.sum(1 - S))"
   ]
  },
  {
   "cell_type": "code",
   "execution_count": 28,
   "metadata": {},
   "outputs": [
    {
     "name": "stdout",
     "output_type": "stream",
     "text": [
      "missForst imputation RMSE:  1.6350073230789233\n"
     ]
    }
   ],
   "source": [
    "print(\"missForst imputation RMSE: \", rmse_mf)"
   ]
  },
  {
   "cell_type": "code",
   "execution_count": 29,
   "metadata": {
    "collapsed": true
   },
   "outputs": [],
   "source": [
    "imp = IterativeImputer(max_iter=100)\n",
    "imp.fit(Xnan)\n",
    "Xrec = imp.transform(Xnan)\n",
    "RMSE_iter = np.sqrt(np.sum((Xgt - Xrec) ** 2 * (1 - S)) / np.sum(1 - S))"
   ]
  },
  {
   "cell_type": "code",
   "execution_count": 30,
   "metadata": {},
   "outputs": [
    {
     "name": "stdout",
     "output_type": "stream",
     "text": [
      "MICE, imputation RMSE 1.682559181194594\n"
     ]
    }
   ],
   "source": [
    "print(\"MICE, imputation RMSE\", RMSE_iter)"
   ]
  },
  {
   "cell_type": "markdown",
   "metadata": {},
   "source": [
    "### Regressor Quality"
   ]
  },
  {
   "cell_type": "code",
   "execution_count": null,
   "metadata": {},
   "outputs": [
    {
     "data": {
      "image/png": "[encoded data removed]",
      "text/plain": [
       "<Figure size 640x480 with 1 Axes>"
      ]
     },
     "metadata": {},
     "output_type": "display_data"
    }
   ],
   "source": [
    "rmse, imputations, imputed_matrix = not_imputationRMSE(sess, Xtrain, Xnan, 1000)\n",
    "\n",
    "\n",
    "predictions = sess.run(y_pred, feed_dict={X: Xtrain})\n",
    "predicted_grades = np.sort(predictions.flatten())  # Flatten to 1D for easy comparison\n",
    "ground_truth_grades = np.sort(ytrain.flatten())\n",
    "# print(y_pred.shape())\n",
    "x_values = range(len(predicted_grades))  # X-axis is just the index of the grades\n",
    "\n",
    "plt.plot(x_values[:-5], predicted_grades[:-5], c='red', label=\"Predicted Grades\")\n",
    "plt.plot(x_values[:-5], ground_truth_grades[:-5], c='blue', linestyle='--', label=\"Ground-Truth Grades\")\n",
    "plt.xlabel(\"Sample Index\")\n",
    "plt.ylabel(\"Grades\")\n",
    "plt.tight_layout()\n",
    "plt.title(\"Predicted vs Ground-Truth Grades\\nReg-notMIWAE\")\n",
    "plt.legend()\n",
    "plt.show()"
   ]
  },
  {
   "cell_type": "code",
   "execution_count": 32,
   "metadata": {},
   "outputs": [
    {
     "data": {
      "image/png": "[encoded data removed]",
      "text/plain": [
       "<Figure size 640x480 with 1 Axes>"
      ]
     },
     "metadata": {},
     "output_type": "display_data"
    }
   ],
   "source": [
    "\n",
    "predictions = sess.run(y_pred, feed_dict={X: Xtest})\n",
    "predicted_grades = np.round(np.sort(predictions.flatten()))  # Flatten to 1D for easy comparison\n",
    "ground_truth_grades = np.sort(ytest.flatten())\n",
    "x_values = range(len(predicted_grades))  # X-axis is just the index of the grades\n",
    "plt.plot(x_values, predicted_grades, c='red', label=\"Predicted Grades\")\n",
    "plt.plot(x_values, ground_truth_grades, c='blue', linestyle='--', label=\"Ground-Truth Grades\")\n",
    "plt.xlabel(\"Sample Index\")\n",
    "plt.ylabel(\"Grades\")\n",
    "plt.tight_layout()\n",
    "plt.title(\"Predicted vs Ground-Truth Grades\\nReg-notMIWAE\")\n",
    "plt.legend()\n",
    "plt.show()"
   ]
  },
  {
   "cell_type": "markdown",
   "metadata": {},
   "source": [
    "### Classifier\n"
   ]
  },
  {
   "cell_type": "code",
   "execution_count": 33,
   "metadata": {},
   "outputs": [],
   "source": [
    "# y_values= labels_gt.copy()\n",
    "# X_values = imputed_matrix.copy()\n",
    "# n_outputs = 1\n",
    "# n_features= X_values.shape[1]\n",
    "# learning_rate = 3e-4\n",
    "# n_epochs = 200\n",
    "# batch_size = 32"
   ]
  },
  {
   "cell_type": "code",
   "execution_count": 34,
   "metadata": {},
   "outputs": [],
   "source": [
    "# # Placeholders for input and output\n",
    "# X = tf.compat.v1.placeholder(dtype=tf.float32, shape=[None, n_features], name=\"X\")\n",
    "# y = tf.compat.v1.placeholder(dtype=tf.float32, shape=[None, n_outputs], name=\"y\")\n",
    "\n",
    "# # Define the number of hidden units (you can adjust this number as needed)\n",
    "# n_hidden_units = 64  # Example number of hidden units\n",
    "\n",
    "# # Weights and biases for the hidden layer\n",
    "# W_hidden = tf.Variable(tf.random.truncated_normal([n_features, n_hidden_units], stddev=0.1), name=\"W_hidden\")\n",
    "# b_hidden = tf.Variable(tf.zeros([n_hidden_units]), name=\"b_hidden\")\n",
    "\n",
    "# # Hidden layer with ReLU activation function\n",
    "# hidden_layer = tf.nn.relu(tf.matmul(X, W_hidden) + b_hidden)\n",
    "\n",
    "# # Weights and bias for the output layer\n",
    "# W_output = tf.Variable(tf.random.truncated_normal([n_hidden_units, n_outputs], stddev=0.1), name=\"W_output\")\n",
    "# b_output = tf.Variable(tf.zeros([n_outputs]), name=\"b_output\")\n",
    "\n",
    "# # Output layer (no activation function for regression)\n",
    "# y_pred = tf.matmul(hidden_layer, W_output) + b_output\n",
    "\n",
    "# # Loss function: Mean Squared Error (MSE)\n",
    "# loss_ = tf.reduce_mean(tf.square(y_pred - y))\n",
    "\n",
    "# # Optimizer\n",
    "# optimizer_ = tf.compat.v1.train.AdamOptimizer(learning_rate=learning_rate).minimize(loss_)\n",
    "\n",
    "# # Initialize variables\n",
    "# init_ = tf.compat.v1.global_variables_initializer()"
   ]
  },
  {
   "cell_type": "markdown",
   "metadata": {},
   "source": [
    "### Training on inferred data"
   ]
  },
  {
   "cell_type": "code",
   "execution_count": 35,
   "metadata": {},
   "outputs": [],
   "source": [
    "# data_to_regress_on = [imputed_matrix, Xtrain] # First, test imputed data, then compare to g\n",
    "# final_losses=np.empty(2)\n",
    "# with tf.compat.v1.Session() as sess:\n",
    "#     for l in range(2):\n",
    "#         X_values=data_to_regress_on[l]\n",
    "#         print(f\"Training n°{l+1}\")\n",
    "#         sess.run(init_)\n",
    "#         n_samples = X_values.shape[0]\n",
    "#         for epoch in range(n_epochs):\n",
    "#             for i in range(0, n_samples, batch_size):\n",
    "#                 X_batch = X_values[i:i+batch_size]\n",
    "#                 y_batch = y_values[i:i+batch_size].reshape(-1, 1)  # Ensure correct shape\n",
    "#                 sess.run(optimizer_, feed_dict={X: X_batch, y: y_batch})\n",
    "\n",
    "#             if epoch % 50 == 0 or epoch == n_epochs - 1:\n",
    "#                 current_loss = sess.run(loss_, feed_dict={X: X_values, y: y_values.reshape(-1, 1)})\n",
    "#                 print(f\"Epoch {epoch}, Loss: {current_loss:.4f}\")\n",
    "\n",
    "#         # Final weights and bias\n",
    "#         final_W_hidden, final_b_hidden, final_W_output, final_b_output = sess.run([W_hidden, b_hidden, W_output, b_output])\n",
    "#         print(\"Training complete.\")\n",
    "#         final_losses[l]=(sess.run(loss_, feed_dict={X: X_values, y: y_values.reshape(-1, 1)}))\n",
    "#         if l == 0:\n",
    "#             print(\"Loss with imputed data:\", final_losses[l])\n",
    "#         else :\n",
    "#             print(\"Loss with original data:\", final_losses[l])\n",
    "#         # Inference\n",
    "#         predictions = sess.run(y_pred, feed_dict={X: X_values})\n",
    "\n",
    "#         # To see the predicted grades alongside the ground truth\n",
    "#         predicted_grades = predictions.flatten()  # Flatten to 1D for easy comparison\n",
    "#         ground_truth_grades = y_values.flatten()  # Flatten ground truth as well\n",
    "\n",
    "#         # Display some predictions alongside their corresponding ground truth\n",
    "#         for i in range(10, 20):  # Display first 10 samples\n",
    "#             print(f\"Predicted: {predicted_grades[i]}, Actual: {ground_truth_grades[i]}\")\n",
    "#         print('\\n')"
   ]
  },
  {
   "cell_type": "markdown",
   "metadata": {},
   "source": [
    "### Close the session"
   ]
  },
  {
   "cell_type": "code",
   "execution_count": 36,
   "metadata": {
    "collapsed": true
   },
   "outputs": [],
   "source": [
    "# sess.close()"
   ]
  }
 ],
 "metadata": {
  "kernelspec": {
   "display_name": "Python 3",
   "language": "python",
   "name": "python3"
  },
  "language_info": {
   "codemirror_mode": {
    "name": "ipython",
    "version": 3
   },
   "file_extension": ".py",
   "mimetype": "text/x-python",
   "name": "python",
   "nbconvert_exporter": "python",
   "pygments_lexer": "ipython3",
   "version": "3.12.8"
  }
 },
 "nbformat": 4,
 "nbformat_minor": 2
}
